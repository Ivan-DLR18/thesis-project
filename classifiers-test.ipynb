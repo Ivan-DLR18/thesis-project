{
 "cells": [
  {
   "cell_type": "code",
   "execution_count": 1,
   "metadata": {
    "executionInfo": {
     "elapsed": 1381,
     "status": "ok",
     "timestamp": 1729379611416,
     "user": {
      "displayName": "Iván Díaz de León Rodríguez",
      "userId": "10241861510245582635"
     },
     "user_tz": 360
    },
    "id": "upjkPxbOuHLx"
   },
   "outputs": [],
   "source": [
    "import pandas as pd\n",
    "import numpy as np\n",
    "from collections import Counter"
   ]
  },
  {
   "cell_type": "code",
   "execution_count": 2,
   "metadata": {
    "colab": {
     "base_uri": "https://localhost:8080/"
    },
    "executionInfo": {
     "elapsed": 20366,
     "status": "ok",
     "timestamp": 1729379631778,
     "user": {
      "displayName": "Iván Díaz de León Rodríguez",
      "userId": "10241861510245582635"
     },
     "user_tz": 360
    },
    "id": "DRaykQF5tjov",
    "outputId": "47045df2-9e3c-4b3e-b245-323ea2ffd278"
   },
   "outputs": [
    {
     "name": "stdout",
     "output_type": "stream",
     "text": [
      "Mounted at /content/drive\n"
     ]
    }
   ],
   "source": [
    "from google.colab import drive\n",
    "drive.mount('/content/drive')"
   ]
  },
  {
   "cell_type": "code",
   "execution_count": null,
   "metadata": {
    "colab": {
     "base_uri": "https://localhost:8080/"
    },
    "executionInfo": {
     "elapsed": 1289,
     "status": "ok",
     "timestamp": 1729379633066,
     "user": {
      "displayName": "Iván Díaz de León Rodríguez",
      "userId": "10241861510245582635"
     },
     "user_tz": 360
    },
    "id": "7c4LwBTKti85",
    "outputId": "6daf78c1-79f0-467c-f371-d52ea1cbb3ba"
   },
   "outputs": [
    {
     "name": "stdout",
     "output_type": "stream",
     "text": [
      "/content/drive/MyDrive/[001]-TEC/MCC/Tesis/Sentiment Analysis/thesis-project-sent-analysis/anomaly-detection\n",
      "1-svm-thesis-project.ipynb  player-dataset-complete-v3.csv\tplayer-datset-1.csv\n",
      "clasificadores-exp.ipynb    player-dataset-wg-avg.csv\t\tplayer-datset-2.csv\n",
      "Classifiers-test.ipynb\t    player-dataset-wg-avg-expirado.csv\tPreliminary-results-TP.gsheet\n",
      "player-dataset-avg.csv\t    player-datset-0.csv\t\t\tsvm.py\n"
     ]
    }
   ],
   "source": [
    "# Setting toolkit folder as working directory\n",
    "\n",
    "%cd #Your path\n",
    "! ls"
   ]
  },
  {
   "cell_type": "markdown",
   "metadata": {
    "id": "Zw_8fCWXPh0O"
   },
   "source": [
    "## Data manipulation"
   ]
  },
  {
   "cell_type": "code",
   "execution_count": null,
   "metadata": {
    "colab": {
     "base_uri": "https://localhost:8080/"
    },
    "executionInfo": {
     "elapsed": 164,
     "status": "ok",
     "timestamp": 1729381128648,
     "user": {
      "displayName": "Iván Díaz de León Rodríguez",
      "userId": "10241861510245582635"
     },
     "user_tz": 360
    },
    "id": "YL6q0h5zPhJn",
    "outputId": "4d656721-7e1a-433c-9dd0-f80895298631"
   },
   "outputs": [
    {
     "name": "stdout",
     "output_type": "stream",
     "text": [
      "61\n",
      "0\n",
      "The dataset has 1031 records for the majority class and 55 records for the minority class.\n",
      "Resulting in 0.05064456721915286 percentage of the minority class in the entire dataset.\n"
     ]
    },
    {
     "name": "stderr",
     "output_type": "stream",
     "text": [
      "<ipython-input-14-60771187b21a>:4: SettingWithCopyWarning: \n",
      "A value is trying to be set on a copy of a slice from a DataFrame\n",
      "\n",
      "See the caveats in the documentation: https://pandas.pydata.org/pandas-docs/stable/user_guide/indexing.html#returning-a-view-versus-a-copy\n",
      "  df.dropna(subset=['Pos'], inplace=True)\n"
     ]
    }
   ],
   "source": [
    "df = pd.read_csv('your-file.csv')\n",
    "print(len(df[df['Pos'] == 'GK']))\n",
    "df = df[df['Pos'] != 'GK'] # Excludes Goalkeepers\n",
    "df.dropna(subset=['Pos'], inplace=True)\n",
    "df.reset_index(drop=True, inplace=True)\n",
    "print(len(df[df['Pos'] == 'GK']))\n",
    "df = df.fillna(0)\n",
    "X = df.iloc[:,3:-1]\n",
    "y = df.iloc[:,-1]\n",
    "mayority_class = sorted(Counter(y).items())[0][1]\n",
    "minority_class = sorted(Counter(y).items())[1][1]\n",
    "ratio = minority_class/(mayority_class + minority_class)\n",
    "print(f\"The dataset has {mayority_class} records for the majority class and {minority_class} records for the minority class.\")\n",
    "print(f'Resulting in {ratio} percentage of the minority class in the entire dataset.')"
   ]
  },
  {
   "cell_type": "code",
   "execution_count": 16,
   "metadata": {
    "colab": {
     "base_uri": "https://localhost:8080/"
    },
    "executionInfo": {
     "elapsed": 162,
     "status": "ok",
     "timestamp": 1729381320631,
     "user": {
      "displayName": "Iván Díaz de León Rodríguez",
      "userId": "10241861510245582635"
     },
     "user_tz": 360
    },
    "id": "2Os-HMyTK2Ye",
    "outputId": "146feec4-6af2-4b41-e4f0-d0623f35cb86"
   },
   "outputs": [
    {
     "name": "stdout",
     "output_type": "stream",
     "text": [
      "14\n"
     ]
    },
    {
     "data": {
      "text/plain": [
       "Index(['wg_avg_mp', 'wg_avg_min', 'wg_avg_gls', 'wg_avg_asst',\n",
       "       'wg_avg_gls_asst', 'wg_avg_value', 'wg_avg_ovrl', 'wg_avg_pot',\n",
       "       'wg_avg_pac', 'wg_avg_sho', 'wg_avg_pas', 'wg_avg_dri', 'wg_avg_def',\n",
       "       'wg_avg_phy'],\n",
       "      dtype='object')"
      ]
     },
     "execution_count": 16,
     "metadata": {},
     "output_type": "execute_result"
    }
   ],
   "source": [
    "print(len(X.columns))\n",
    "X.columns"
   ]
  },
  {
   "cell_type": "markdown",
   "metadata": {
    "id": "IP7GnA2Pq2CP"
   },
   "source": [
    "## Train Test Split"
   ]
  },
  {
   "cell_type": "code",
   "execution_count": null,
   "metadata": {
    "colab": {
     "base_uri": "https://localhost:8080/"
    },
    "executionInfo": {
     "elapsed": 1641,
     "status": "ok",
     "timestamp": 1712166605166,
     "user": {
      "displayName": "Iván Díaz de León Rodríguez",
      "userId": "10241861510245582635"
     },
     "user_tz": 360
    },
    "id": "pkKiMBiCcwxh",
    "outputId": "c1ffb757-71da-4e05-873d-ab2e445f34f3"
   },
   "outputs": [
    {
     "name": "stdout",
     "output_type": "stream",
     "text": [
      "The number of records in the training dataset is 868\n",
      "The number of records in the test dataset is 218\n",
      "The training dataset has 825 records for the majority class and 43 records for the minority class.\n"
     ]
    }
   ],
   "source": [
    "from sklearn.preprocessing import StandardScaler\n",
    "from sklearn.model_selection import train_test_split\n",
    "\n",
    "# Train test split\n",
    "X_train, X_test, y_train, y_test = train_test_split(X, y, test_size=0.2, random_state=43)\n",
    "\n",
    "# Standarization\n",
    "scaler = StandardScaler()\n",
    "\n",
    "X_train_scaled = scaler.fit_transform(X_train)\n",
    "X_test_scaled = scaler.transform(X_test)\n",
    "\n",
    "# Check the number of records\n",
    "print('The number of records in the training dataset is', X_train.shape[0])\n",
    "print('The number of records in the test dataset is', X_test.shape[0])\n",
    "print(f\"The training dataset has {sorted(Counter(y_train).items())[0][1]} records for the majority class and {sorted(Counter(y_train).items())[1][1]} records for the minority class.\")"
   ]
  },
  {
   "cell_type": "markdown",
   "metadata": {
    "id": "YHJvnVFsFezq"
   },
   "source": [
    "# Supervised Learning Algorithms"
   ]
  },
  {
   "cell_type": "markdown",
   "metadata": {
    "id": "VaZXkh3oFhij"
   },
   "source": [
    "## Setting environment"
   ]
  },
  {
   "cell_type": "code",
   "execution_count": null,
   "metadata": {
    "id": "VD93Cn14-CDK"
   },
   "outputs": [],
   "source": [
    "from imblearn.over_sampling import SMOTE\n",
    "from sklearn.model_selection import train_test_split\n",
    "from sklearn.metrics import classification_report, confusion_matrix, roc_auc_score, get_scorer_names\n",
    "import matplotlib.pyplot as plt\n",
    "import seaborn as sns\n",
    "\n",
    "# MODELOS\n",
    "from sklearn.ensemble import RandomForestClassifier\n",
    "from sklearn.ensemble import GradientBoostingClassifier\n",
    "\n",
    "# CROSS-VALIDATION FOR FINE TUNNING\n",
    "from sklearn.model_selection import GridSearchCV\n",
    "\n",
    "# CROSS-VALIDATION FOR COMPARISON\n",
    "from sklearn.model_selection import cross_val_score\n"
   ]
  },
  {
   "cell_type": "markdown",
   "metadata": {
    "id": "7qmC7rneG0yn"
   },
   "source": [
    "## SMOTE"
   ]
  },
  {
   "cell_type": "markdown",
   "metadata": {
    "id": "JY7H7yx5G2vd"
   },
   "source": [
    "Synthetic Minority Over-sampling Technique for handling imbalanced datasets"
   ]
  },
  {
   "cell_type": "code",
   "execution_count": null,
   "metadata": {
    "id": "dLhjKI4R-DEB"
   },
   "outputs": [],
   "source": [
    "# Apply SMOTE\n",
    "sm = SMOTE(random_state=42)\n",
    "X_train_res, y_train_res = sm.fit_resample(X_train, y_train)"
   ]
  },
  {
   "cell_type": "code",
   "execution_count": null,
   "metadata": {
    "colab": {
     "base_uri": "https://localhost:8080/",
     "height": 444
    },
    "executionInfo": {
     "elapsed": 454,
     "status": "ok",
     "timestamp": 1712166623936,
     "user": {
      "displayName": "Iván Díaz de León Rodríguez",
      "userId": "10241861510245582635"
     },
     "user_tz": 360
    },
    "id": "6E-fU3T_pn2q",
    "outputId": "85f9760d-f4e0-4140-b363-9d8064ee7ac2"
   },
   "outputs": [
    {
     "data": {
      "application/vnd.google.colaboratory.intrinsic+json": {
       "summary": "{\n  \"name\": \"X_train_res\",\n  \"rows\": 1650,\n  \"fields\": [\n    {\n      \"column\": \"wg_avg_mp\",\n      \"properties\": {\n        \"dtype\": \"number\",\n        \"std\": 7.433984547724768,\n        \"min\": -4.26,\n        \"max\": 31.29,\n        \"num_unique_values\": 1468,\n        \"samples\": [\n          18.337465108696183,\n          9.02,\n          17.418917973848142\n        ],\n        \"semantic_type\": \"\",\n        \"description\": \"\"\n      }\n    },\n    {\n      \"column\": \"wg_avg_min\",\n      \"properties\": {\n        \"dtype\": \"number\",\n        \"std\": 554.6202631177333,\n        \"min\": -4.26,\n        \"max\": 2728.15,\n        \"num_unique_values\": 1640,\n        \"samples\": [\n          1747.33,\n          1395.1641989590366,\n          1244.053287891956\n        ],\n        \"semantic_type\": \"\",\n        \"description\": \"\"\n      }\n    },\n    {\n      \"column\": \"wg_avg_gls\",\n      \"properties\": {\n        \"dtype\": \"number\",\n        \"std\": 3.0681435394669414,\n        \"min\": -4.26,\n        \"max\": 18.77,\n        \"num_unique_values\": 986,\n        \"samples\": [\n          -0.6690138569555439,\n          -2.044041238362784,\n          0.533136662711159\n        ],\n        \"semantic_type\": \"\",\n        \"description\": \"\"\n      }\n    },\n    {\n      \"column\": \"wg_avg_asst\",\n      \"properties\": {\n        \"dtype\": \"number\",\n        \"std\": 2.7060404766689774,\n        \"min\": -4.26,\n        \"max\": 9.47,\n        \"num_unique_values\": 931,\n        \"samples\": [\n          2.7433099033068182,\n          1.28,\n          -0.6268028144398414\n        ],\n        \"semantic_type\": \"\",\n        \"description\": \"\"\n      }\n    },\n    {\n      \"column\": \"wg_avg_gls_asst\",\n      \"properties\": {\n        \"dtype\": \"number\",\n        \"std\": 3.6791475145005497,\n        \"min\": -4.26,\n        \"max\": 21.32,\n        \"num_unique_values\": 1110,\n        \"samples\": [\n          2.5827607703520123,\n          5.310598614174244,\n          4.54\n        ],\n        \"semantic_type\": \"\",\n        \"description\": \"\"\n      }\n    },\n    {\n      \"column\": \"wg_avg_value\",\n      \"properties\": {\n        \"dtype\": \"number\",\n        \"std\": 2283121.037960861,\n        \"min\": 0.0,\n        \"max\": 9099999.81,\n        \"num_unique_values\": 1459,\n        \"samples\": [\n          3666664.8685229803,\n          2916667.6661089915,\n          116666.92\n        ],\n        \"semantic_type\": \"\",\n        \"description\": \"\"\n      }\n    },\n    {\n      \"column\": \"wg_avg_ovrl\",\n      \"properties\": {\n        \"dtype\": \"number\",\n        \"std\": 12.375631506236356,\n        \"min\": 0.0,\n        \"max\": 53.73,\n        \"num_unique_values\": 1262,\n        \"samples\": [\n          45.03757036665817,\n          45.39123932117765,\n          41.79578873215837\n        ],\n        \"semantic_type\": \"\",\n        \"description\": \"\"\n      }\n    },\n    {\n      \"column\": \"wg_avg_pot\",\n      \"properties\": {\n        \"dtype\": \"number\",\n        \"std\": 13.478081253652604,\n        \"min\": 0.0,\n        \"max\": 59.75,\n        \"num_unique_values\": 1279,\n        \"samples\": [\n          55.64605311441173,\n          52.893985018334604,\n          52.48090832157613\n        ],\n        \"semantic_type\": \"\",\n        \"description\": \"\"\n      }\n    },\n    {\n      \"column\": \"wg_avg_pac\",\n      \"properties\": {\n        \"dtype\": \"number\",\n        \"std\": 13.811123618990786,\n        \"min\": 0.0,\n        \"max\": 65.1,\n        \"num_unique_values\": 1362,\n        \"samples\": [\n          51.21,\n          53.661573579778214,\n          57.608285650657535\n        ],\n        \"semantic_type\": \"\",\n        \"description\": \"\"\n      }\n    },\n    {\n      \"column\": \"wg_avg_sho\",\n      \"properties\": {\n        \"dtype\": \"number\",\n        \"std\": 13.094130416040738,\n        \"min\": -2.1,\n        \"max\": 52.05,\n        \"num_unique_values\": 1374,\n        \"samples\": [\n          40.99,\n          19.5,\n          38.41\n        ],\n        \"semantic_type\": \"\",\n        \"description\": \"\"\n      }\n    },\n    {\n      \"column\": \"wg_avg_pas\",\n      \"properties\": {\n        \"dtype\": \"number\",\n        \"std\": 12.285063961839015,\n        \"min\": -0.74,\n        \"max\": 53.74,\n        \"num_unique_values\": 1366,\n        \"samples\": [\n          50.457162261170886,\n          40.81231633855063,\n          47.09\n        ],\n        \"semantic_type\": \"\",\n        \"description\": \"\"\n      }\n    },\n    {\n      \"column\": \"wg_avg_dri\",\n      \"properties\": {\n        \"dtype\": \"number\",\n        \"std\": 13.253684420816315,\n        \"min\": 0.0,\n        \"max\": 59.29,\n        \"num_unique_values\": 1382,\n        \"samples\": [\n          47.85,\n          55.83599313368168,\n          46.97\n        ],\n        \"semantic_type\": \"\",\n        \"description\": \"\"\n      }\n    },\n    {\n      \"column\": \"wg_avg_def\",\n      \"properties\": {\n        \"dtype\": \"number\",\n        \"std\": 13.691856414492712,\n        \"min\": -2.65,\n        \"max\": 54.67,\n        \"num_unique_values\": 1370,\n        \"samples\": [\n          46.52,\n          25.157585661229362,\n          47.10537197642194\n        ],\n        \"semantic_type\": \"\",\n        \"description\": \"\"\n      }\n    },\n    {\n      \"column\": \"wg_avg_phy\",\n      \"properties\": {\n        \"dtype\": \"number\",\n        \"std\": 12.29532583136881,\n        \"min\": 0.0,\n        \"max\": 58.81,\n        \"num_unique_values\": 1374,\n        \"samples\": [\n          20.24,\n          38.52,\n          43.69\n        ],\n        \"semantic_type\": \"\",\n        \"description\": \"\"\n      }\n    }\n  ]\n}",
       "type": "dataframe",
       "variable_name": "X_train_res"
      },
      "text/html": [
       "\n",
       "  <div id=\"df-c9fc6d68-7e59-428d-86b8-87462534bc63\" class=\"colab-df-container\">\n",
       "    <div>\n",
       "<style scoped>\n",
       "    .dataframe tbody tr th:only-of-type {\n",
       "        vertical-align: middle;\n",
       "    }\n",
       "\n",
       "    .dataframe tbody tr th {\n",
       "        vertical-align: top;\n",
       "    }\n",
       "\n",
       "    .dataframe thead th {\n",
       "        text-align: right;\n",
       "    }\n",
       "</style>\n",
       "<table border=\"1\" class=\"dataframe\">\n",
       "  <thead>\n",
       "    <tr style=\"text-align: right;\">\n",
       "      <th></th>\n",
       "      <th>wg_avg_mp</th>\n",
       "      <th>wg_avg_min</th>\n",
       "      <th>wg_avg_gls</th>\n",
       "      <th>wg_avg_asst</th>\n",
       "      <th>wg_avg_gls_asst</th>\n",
       "      <th>wg_avg_value</th>\n",
       "      <th>wg_avg_ovrl</th>\n",
       "      <th>wg_avg_pot</th>\n",
       "      <th>wg_avg_pac</th>\n",
       "      <th>wg_avg_sho</th>\n",
       "      <th>wg_avg_pas</th>\n",
       "      <th>wg_avg_dri</th>\n",
       "      <th>wg_avg_def</th>\n",
       "      <th>wg_avg_phy</th>\n",
       "    </tr>\n",
       "  </thead>\n",
       "  <tbody>\n",
       "    <tr>\n",
       "      <th>0</th>\n",
       "      <td>16.690000</td>\n",
       "      <td>1226.860000</td>\n",
       "      <td>2.830000</td>\n",
       "      <td>0.000000</td>\n",
       "      <td>2.830000</td>\n",
       "      <td>8.983348e+05</td>\n",
       "      <td>46.780000</td>\n",
       "      <td>50.260000</td>\n",
       "      <td>39.660000</td>\n",
       "      <td>22.660000</td>\n",
       "      <td>31.090000</td>\n",
       "      <td>30.280000</td>\n",
       "      <td>46.980000</td>\n",
       "      <td>47.990000</td>\n",
       "    </tr>\n",
       "    <tr>\n",
       "      <th>1</th>\n",
       "      <td>5.100000</td>\n",
       "      <td>120.010000</td>\n",
       "      <td>4.230000</td>\n",
       "      <td>4.230000</td>\n",
       "      <td>5.060000</td>\n",
       "      <td>1.925012e+05</td>\n",
       "      <td>42.540000</td>\n",
       "      <td>46.900000</td>\n",
       "      <td>53.940000</td>\n",
       "      <td>40.190000</td>\n",
       "      <td>35.750000</td>\n",
       "      <td>43.220000</td>\n",
       "      <td>19.100000</td>\n",
       "      <td>47.700000</td>\n",
       "    </tr>\n",
       "    <tr>\n",
       "      <th>2</th>\n",
       "      <td>29.360000</td>\n",
       "      <td>2462.700000</td>\n",
       "      <td>-2.620000</td>\n",
       "      <td>2.360000</td>\n",
       "      <td>4.420000</td>\n",
       "      <td>1.341667e+06</td>\n",
       "      <td>48.080000</td>\n",
       "      <td>52.020000</td>\n",
       "      <td>48.040000</td>\n",
       "      <td>44.360000</td>\n",
       "      <td>46.900000</td>\n",
       "      <td>48.520000</td>\n",
       "      <td>41.300000</td>\n",
       "      <td>45.500000</td>\n",
       "    </tr>\n",
       "    <tr>\n",
       "      <th>3</th>\n",
       "      <td>1.030000</td>\n",
       "      <td>547.800000</td>\n",
       "      <td>0.230000</td>\n",
       "      <td>0.000000</td>\n",
       "      <td>0.230000</td>\n",
       "      <td>3.499998e+05</td>\n",
       "      <td>45.030000</td>\n",
       "      <td>52.680000</td>\n",
       "      <td>46.200000</td>\n",
       "      <td>20.820000</td>\n",
       "      <td>32.650000</td>\n",
       "      <td>35.450000</td>\n",
       "      <td>43.850000</td>\n",
       "      <td>51.810000</td>\n",
       "    </tr>\n",
       "    <tr>\n",
       "      <th>4</th>\n",
       "      <td>18.200000</td>\n",
       "      <td>784.580000</td>\n",
       "      <td>1.140000</td>\n",
       "      <td>-3.890000</td>\n",
       "      <td>1.490000</td>\n",
       "      <td>6.183333e+06</td>\n",
       "      <td>51.160000</td>\n",
       "      <td>56.450000</td>\n",
       "      <td>55.780000</td>\n",
       "      <td>48.130000</td>\n",
       "      <td>50.030000</td>\n",
       "      <td>53.900000</td>\n",
       "      <td>35.000000</td>\n",
       "      <td>44.370000</td>\n",
       "    </tr>\n",
       "    <tr>\n",
       "      <th>...</th>\n",
       "      <td>...</td>\n",
       "      <td>...</td>\n",
       "      <td>...</td>\n",
       "      <td>...</td>\n",
       "      <td>...</td>\n",
       "      <td>...</td>\n",
       "      <td>...</td>\n",
       "      <td>...</td>\n",
       "      <td>...</td>\n",
       "      <td>...</td>\n",
       "      <td>...</td>\n",
       "      <td>...</td>\n",
       "      <td>...</td>\n",
       "      <td>...</td>\n",
       "    </tr>\n",
       "    <tr>\n",
       "      <th>1645</th>\n",
       "      <td>16.225671</td>\n",
       "      <td>1376.097385</td>\n",
       "      <td>4.566587</td>\n",
       "      <td>0.552187</td>\n",
       "      <td>1.650713</td>\n",
       "      <td>1.501686e+06</td>\n",
       "      <td>47.159358</td>\n",
       "      <td>52.530320</td>\n",
       "      <td>59.126826</td>\n",
       "      <td>30.119929</td>\n",
       "      <td>42.579214</td>\n",
       "      <td>49.500679</td>\n",
       "      <td>44.965339</td>\n",
       "      <td>48.209287</td>\n",
       "    </tr>\n",
       "    <tr>\n",
       "      <th>1646</th>\n",
       "      <td>17.338059</td>\n",
       "      <td>1339.591054</td>\n",
       "      <td>0.785978</td>\n",
       "      <td>2.391971</td>\n",
       "      <td>4.003105</td>\n",
       "      <td>3.111747e+06</td>\n",
       "      <td>49.474418</td>\n",
       "      <td>55.885240</td>\n",
       "      <td>52.670853</td>\n",
       "      <td>34.468174</td>\n",
       "      <td>43.660523</td>\n",
       "      <td>46.073892</td>\n",
       "      <td>35.385615</td>\n",
       "      <td>46.391285</td>\n",
       "    </tr>\n",
       "    <tr>\n",
       "      <th>1647</th>\n",
       "      <td>22.802503</td>\n",
       "      <td>1815.443241</td>\n",
       "      <td>4.635012</td>\n",
       "      <td>1.457944</td>\n",
       "      <td>5.920800</td>\n",
       "      <td>2.831384e+06</td>\n",
       "      <td>49.119404</td>\n",
       "      <td>53.692113</td>\n",
       "      <td>54.672358</td>\n",
       "      <td>39.099832</td>\n",
       "      <td>44.835831</td>\n",
       "      <td>50.006323</td>\n",
       "      <td>39.743196</td>\n",
       "      <td>44.591402</td>\n",
       "    </tr>\n",
       "    <tr>\n",
       "      <th>1648</th>\n",
       "      <td>21.927329</td>\n",
       "      <td>1515.024160</td>\n",
       "      <td>3.464343</td>\n",
       "      <td>4.641759</td>\n",
       "      <td>7.149584</td>\n",
       "      <td>1.769793e+06</td>\n",
       "      <td>45.630796</td>\n",
       "      <td>49.789849</td>\n",
       "      <td>56.429188</td>\n",
       "      <td>37.744814</td>\n",
       "      <td>40.089202</td>\n",
       "      <td>46.233625</td>\n",
       "      <td>22.403119</td>\n",
       "      <td>40.438938</td>\n",
       "    </tr>\n",
       "    <tr>\n",
       "      <th>1649</th>\n",
       "      <td>16.672424</td>\n",
       "      <td>972.004525</td>\n",
       "      <td>4.664507</td>\n",
       "      <td>4.879945</td>\n",
       "      <td>6.816232</td>\n",
       "      <td>1.681609e+06</td>\n",
       "      <td>43.447323</td>\n",
       "      <td>48.974894</td>\n",
       "      <td>52.060263</td>\n",
       "      <td>29.365633</td>\n",
       "      <td>34.005593</td>\n",
       "      <td>43.738706</td>\n",
       "      <td>35.546901</td>\n",
       "      <td>44.162350</td>\n",
       "    </tr>\n",
       "  </tbody>\n",
       "</table>\n",
       "<p>1650 rows × 14 columns</p>\n",
       "</div>\n",
       "    <div class=\"colab-df-buttons\">\n",
       "\n",
       "  <div class=\"colab-df-container\">\n",
       "    <button class=\"colab-df-convert\" onclick=\"convertToInteractive('df-c9fc6d68-7e59-428d-86b8-87462534bc63')\"\n",
       "            title=\"Convert this dataframe to an interactive table.\"\n",
       "            style=\"display:none;\">\n",
       "\n",
       "  <svg xmlns=\"http://www.w3.org/2000/svg\" height=\"24px\" viewBox=\"0 -960 960 960\">\n",
       "    <path d=\"M120-120v-720h720v720H120Zm60-500h600v-160H180v160Zm220 220h160v-160H400v160Zm0 220h160v-160H400v160ZM180-400h160v-160H180v160Zm440 0h160v-160H620v160ZM180-180h160v-160H180v160Zm440 0h160v-160H620v160Z\"/>\n",
       "  </svg>\n",
       "    </button>\n",
       "\n",
       "  <style>\n",
       "    .colab-df-container {\n",
       "      display:flex;\n",
       "      gap: 12px;\n",
       "    }\n",
       "\n",
       "    .colab-df-convert {\n",
       "      background-color: #E8F0FE;\n",
       "      border: none;\n",
       "      border-radius: 50%;\n",
       "      cursor: pointer;\n",
       "      display: none;\n",
       "      fill: #1967D2;\n",
       "      height: 32px;\n",
       "      padding: 0 0 0 0;\n",
       "      width: 32px;\n",
       "    }\n",
       "\n",
       "    .colab-df-convert:hover {\n",
       "      background-color: #E2EBFA;\n",
       "      box-shadow: 0px 1px 2px rgba(60, 64, 67, 0.3), 0px 1px 3px 1px rgba(60, 64, 67, 0.15);\n",
       "      fill: #174EA6;\n",
       "    }\n",
       "\n",
       "    .colab-df-buttons div {\n",
       "      margin-bottom: 4px;\n",
       "    }\n",
       "\n",
       "    [theme=dark] .colab-df-convert {\n",
       "      background-color: #3B4455;\n",
       "      fill: #D2E3FC;\n",
       "    }\n",
       "\n",
       "    [theme=dark] .colab-df-convert:hover {\n",
       "      background-color: #434B5C;\n",
       "      box-shadow: 0px 1px 3px 1px rgba(0, 0, 0, 0.15);\n",
       "      filter: drop-shadow(0px 1px 2px rgba(0, 0, 0, 0.3));\n",
       "      fill: #FFFFFF;\n",
       "    }\n",
       "  </style>\n",
       "\n",
       "    <script>\n",
       "      const buttonEl =\n",
       "        document.querySelector('#df-c9fc6d68-7e59-428d-86b8-87462534bc63 button.colab-df-convert');\n",
       "      buttonEl.style.display =\n",
       "        google.colab.kernel.accessAllowed ? 'block' : 'none';\n",
       "\n",
       "      async function convertToInteractive(key) {\n",
       "        const element = document.querySelector('#df-c9fc6d68-7e59-428d-86b8-87462534bc63');\n",
       "        const dataTable =\n",
       "          await google.colab.kernel.invokeFunction('convertToInteractive',\n",
       "                                                    [key], {});\n",
       "        if (!dataTable) return;\n",
       "\n",
       "        const docLinkHtml = 'Like what you see? Visit the ' +\n",
       "          '<a target=\"_blank\" href=https://colab.research.google.com/notebooks/data_table.ipynb>data table notebook</a>'\n",
       "          + ' to learn more about interactive tables.';\n",
       "        element.innerHTML = '';\n",
       "        dataTable['output_type'] = 'display_data';\n",
       "        await google.colab.output.renderOutput(dataTable, element);\n",
       "        const docLink = document.createElement('div');\n",
       "        docLink.innerHTML = docLinkHtml;\n",
       "        element.appendChild(docLink);\n",
       "      }\n",
       "    </script>\n",
       "  </div>\n",
       "\n",
       "\n",
       "<div id=\"df-655d1fa6-c359-4c47-8022-3609f31e2d4c\">\n",
       "  <button class=\"colab-df-quickchart\" onclick=\"quickchart('df-655d1fa6-c359-4c47-8022-3609f31e2d4c')\"\n",
       "            title=\"Suggest charts\"\n",
       "            style=\"display:none;\">\n",
       "\n",
       "<svg xmlns=\"http://www.w3.org/2000/svg\" height=\"24px\"viewBox=\"0 0 24 24\"\n",
       "     width=\"24px\">\n",
       "    <g>\n",
       "        <path d=\"M19 3H5c-1.1 0-2 .9-2 2v14c0 1.1.9 2 2 2h14c1.1 0 2-.9 2-2V5c0-1.1-.9-2-2-2zM9 17H7v-7h2v7zm4 0h-2V7h2v10zm4 0h-2v-4h2v4z\"/>\n",
       "    </g>\n",
       "</svg>\n",
       "  </button>\n",
       "\n",
       "<style>\n",
       "  .colab-df-quickchart {\n",
       "      --bg-color: #E8F0FE;\n",
       "      --fill-color: #1967D2;\n",
       "      --hover-bg-color: #E2EBFA;\n",
       "      --hover-fill-color: #174EA6;\n",
       "      --disabled-fill-color: #AAA;\n",
       "      --disabled-bg-color: #DDD;\n",
       "  }\n",
       "\n",
       "  [theme=dark] .colab-df-quickchart {\n",
       "      --bg-color: #3B4455;\n",
       "      --fill-color: #D2E3FC;\n",
       "      --hover-bg-color: #434B5C;\n",
       "      --hover-fill-color: #FFFFFF;\n",
       "      --disabled-bg-color: #3B4455;\n",
       "      --disabled-fill-color: #666;\n",
       "  }\n",
       "\n",
       "  .colab-df-quickchart {\n",
       "    background-color: var(--bg-color);\n",
       "    border: none;\n",
       "    border-radius: 50%;\n",
       "    cursor: pointer;\n",
       "    display: none;\n",
       "    fill: var(--fill-color);\n",
       "    height: 32px;\n",
       "    padding: 0;\n",
       "    width: 32px;\n",
       "  }\n",
       "\n",
       "  .colab-df-quickchart:hover {\n",
       "    background-color: var(--hover-bg-color);\n",
       "    box-shadow: 0 1px 2px rgba(60, 64, 67, 0.3), 0 1px 3px 1px rgba(60, 64, 67, 0.15);\n",
       "    fill: var(--button-hover-fill-color);\n",
       "  }\n",
       "\n",
       "  .colab-df-quickchart-complete:disabled,\n",
       "  .colab-df-quickchart-complete:disabled:hover {\n",
       "    background-color: var(--disabled-bg-color);\n",
       "    fill: var(--disabled-fill-color);\n",
       "    box-shadow: none;\n",
       "  }\n",
       "\n",
       "  .colab-df-spinner {\n",
       "    border: 2px solid var(--fill-color);\n",
       "    border-color: transparent;\n",
       "    border-bottom-color: var(--fill-color);\n",
       "    animation:\n",
       "      spin 1s steps(1) infinite;\n",
       "  }\n",
       "\n",
       "  @keyframes spin {\n",
       "    0% {\n",
       "      border-color: transparent;\n",
       "      border-bottom-color: var(--fill-color);\n",
       "      border-left-color: var(--fill-color);\n",
       "    }\n",
       "    20% {\n",
       "      border-color: transparent;\n",
       "      border-left-color: var(--fill-color);\n",
       "      border-top-color: var(--fill-color);\n",
       "    }\n",
       "    30% {\n",
       "      border-color: transparent;\n",
       "      border-left-color: var(--fill-color);\n",
       "      border-top-color: var(--fill-color);\n",
       "      border-right-color: var(--fill-color);\n",
       "    }\n",
       "    40% {\n",
       "      border-color: transparent;\n",
       "      border-right-color: var(--fill-color);\n",
       "      border-top-color: var(--fill-color);\n",
       "    }\n",
       "    60% {\n",
       "      border-color: transparent;\n",
       "      border-right-color: var(--fill-color);\n",
       "    }\n",
       "    80% {\n",
       "      border-color: transparent;\n",
       "      border-right-color: var(--fill-color);\n",
       "      border-bottom-color: var(--fill-color);\n",
       "    }\n",
       "    90% {\n",
       "      border-color: transparent;\n",
       "      border-bottom-color: var(--fill-color);\n",
       "    }\n",
       "  }\n",
       "</style>\n",
       "\n",
       "  <script>\n",
       "    async function quickchart(key) {\n",
       "      const quickchartButtonEl =\n",
       "        document.querySelector('#' + key + ' button');\n",
       "      quickchartButtonEl.disabled = true;  // To prevent multiple clicks.\n",
       "      quickchartButtonEl.classList.add('colab-df-spinner');\n",
       "      try {\n",
       "        const charts = await google.colab.kernel.invokeFunction(\n",
       "            'suggestCharts', [key], {});\n",
       "      } catch (error) {\n",
       "        console.error('Error during call to suggestCharts:', error);\n",
       "      }\n",
       "      quickchartButtonEl.classList.remove('colab-df-spinner');\n",
       "      quickchartButtonEl.classList.add('colab-df-quickchart-complete');\n",
       "    }\n",
       "    (() => {\n",
       "      let quickchartButtonEl =\n",
       "        document.querySelector('#df-655d1fa6-c359-4c47-8022-3609f31e2d4c button');\n",
       "      quickchartButtonEl.style.display =\n",
       "        google.colab.kernel.accessAllowed ? 'block' : 'none';\n",
       "    })();\n",
       "  </script>\n",
       "</div>\n",
       "    </div>\n",
       "  </div>\n"
      ],
      "text/plain": [
       "      wg_avg_mp   wg_avg_min  wg_avg_gls  wg_avg_asst  wg_avg_gls_asst  \\\n",
       "0     16.690000  1226.860000    2.830000     0.000000         2.830000   \n",
       "1      5.100000   120.010000    4.230000     4.230000         5.060000   \n",
       "2     29.360000  2462.700000   -2.620000     2.360000         4.420000   \n",
       "3      1.030000   547.800000    0.230000     0.000000         0.230000   \n",
       "4     18.200000   784.580000    1.140000    -3.890000         1.490000   \n",
       "...         ...          ...         ...          ...              ...   \n",
       "1645  16.225671  1376.097385    4.566587     0.552187         1.650713   \n",
       "1646  17.338059  1339.591054    0.785978     2.391971         4.003105   \n",
       "1647  22.802503  1815.443241    4.635012     1.457944         5.920800   \n",
       "1648  21.927329  1515.024160    3.464343     4.641759         7.149584   \n",
       "1649  16.672424   972.004525    4.664507     4.879945         6.816232   \n",
       "\n",
       "      wg_avg_value  wg_avg_ovrl  wg_avg_pot  wg_avg_pac  wg_avg_sho  \\\n",
       "0     8.983348e+05    46.780000   50.260000   39.660000   22.660000   \n",
       "1     1.925012e+05    42.540000   46.900000   53.940000   40.190000   \n",
       "2     1.341667e+06    48.080000   52.020000   48.040000   44.360000   \n",
       "3     3.499998e+05    45.030000   52.680000   46.200000   20.820000   \n",
       "4     6.183333e+06    51.160000   56.450000   55.780000   48.130000   \n",
       "...            ...          ...         ...         ...         ...   \n",
       "1645  1.501686e+06    47.159358   52.530320   59.126826   30.119929   \n",
       "1646  3.111747e+06    49.474418   55.885240   52.670853   34.468174   \n",
       "1647  2.831384e+06    49.119404   53.692113   54.672358   39.099832   \n",
       "1648  1.769793e+06    45.630796   49.789849   56.429188   37.744814   \n",
       "1649  1.681609e+06    43.447323   48.974894   52.060263   29.365633   \n",
       "\n",
       "      wg_avg_pas  wg_avg_dri  wg_avg_def  wg_avg_phy  \n",
       "0      31.090000   30.280000   46.980000   47.990000  \n",
       "1      35.750000   43.220000   19.100000   47.700000  \n",
       "2      46.900000   48.520000   41.300000   45.500000  \n",
       "3      32.650000   35.450000   43.850000   51.810000  \n",
       "4      50.030000   53.900000   35.000000   44.370000  \n",
       "...          ...         ...         ...         ...  \n",
       "1645   42.579214   49.500679   44.965339   48.209287  \n",
       "1646   43.660523   46.073892   35.385615   46.391285  \n",
       "1647   44.835831   50.006323   39.743196   44.591402  \n",
       "1648   40.089202   46.233625   22.403119   40.438938  \n",
       "1649   34.005593   43.738706   35.546901   44.162350  \n",
       "\n",
       "[1650 rows x 14 columns]"
      ]
     },
     "execution_count": 15,
     "metadata": {},
     "output_type": "execute_result"
    }
   ],
   "source": [
    "X_train_res"
   ]
  },
  {
   "cell_type": "code",
   "execution_count": null,
   "metadata": {
    "colab": {
     "base_uri": "https://localhost:8080/"
    },
    "executionInfo": {
     "elapsed": 118,
     "status": "ok",
     "timestamp": 1712166716961,
     "user": {
      "displayName": "Iván Díaz de León Rodríguez",
      "userId": "10241861510245582635"
     },
     "user_tz": 360
    },
    "id": "m98DLxunFrsg",
    "outputId": "c82b6960-f7ec-4f78-b3db-68cefc0b32a0"
   },
   "outputs": [
    {
     "name": "stdout",
     "output_type": "stream",
     "text": [
      "The dataset has 825 records for the majority class and 825 records for the minority class.\n",
      "Resulting in 0.5 percentage of the minority class in the entire dataset.\n"
     ]
    }
   ],
   "source": [
    "mayority_class = sorted(Counter(y_train_res).items())[0][1]\n",
    "minority_class = sorted(Counter(y_train_res).items())[1][1]\n",
    "ratio = minority_class/(mayority_class + minority_class)\n",
    "print(f\"The dataset has {mayority_class} records for the majority class and {minority_class} records for the minority class.\")\n",
    "print(f'Resulting in {ratio} percentage of the minority class in the entire dataset.')"
   ]
  },
  {
   "cell_type": "markdown",
   "metadata": {
    "id": "uQTd4a0f996c"
   },
   "source": [
    "## Random Forest"
   ]
  },
  {
   "cell_type": "code",
   "execution_count": null,
   "metadata": {
    "colab": {
     "base_uri": "https://localhost:8080/",
     "height": 245
    },
    "executionInfo": {
     "elapsed": 133,
     "status": "error",
     "timestamp": 1710171335825,
     "user": {
      "displayName": "Iván Díaz de León Rodríguez",
      "userId": "10241861510245582635"
     },
     "user_tz": 360
    },
    "id": "VwHE8nJU_kYM",
    "outputId": "42a8abd9-bf96-4c18-b1fa-df44d128d3f4"
   },
   "outputs": [
    {
     "ename": "NameError",
     "evalue": "name 'clf' is not defined",
     "output_type": "error",
     "traceback": [
      "\u001b[0;31m---------------------------------------------------------------------------\u001b[0m",
      "\u001b[0;31mNameError\u001b[0m                                 Traceback (most recent call last)",
      "\u001b[0;32m<ipython-input-30-958dc3130952>\u001b[0m in \u001b[0;36m<cell line: 11>\u001b[0;34m()\u001b[0m\n\u001b[1;32m      9\u001b[0m \u001b[0;34m\u001b[0m\u001b[0m\n\u001b[1;32m     10\u001b[0m \u001b[0;31m# Initialize the grid search model ***** NO CORRER LA MEJOR CONFIGURACIÓN YA ESTÁ ABAJO *****\u001b[0m\u001b[0;34m\u001b[0m\u001b[0;34m\u001b[0m\u001b[0m\n\u001b[0;32m---> 11\u001b[0;31m \u001b[0mgrid_search\u001b[0m \u001b[0;34m=\u001b[0m \u001b[0mGridSearchCV\u001b[0m\u001b[0;34m(\u001b[0m\u001b[0mestimator\u001b[0m\u001b[0;34m=\u001b[0m\u001b[0mclf\u001b[0m\u001b[0;34m,\u001b[0m \u001b[0mparam_grid\u001b[0m\u001b[0;34m=\u001b[0m\u001b[0mparam_grid\u001b[0m\u001b[0;34m,\u001b[0m \u001b[0mcv\u001b[0m\u001b[0;34m=\u001b[0m\u001b[0;36m5\u001b[0m\u001b[0;34m,\u001b[0m \u001b[0mscoring\u001b[0m\u001b[0;34m=\u001b[0m\u001b[0;34m'roc_auc'\u001b[0m\u001b[0;34m,\u001b[0m \u001b[0mverbose\u001b[0m\u001b[0;34m=\u001b[0m\u001b[0;36m2\u001b[0m\u001b[0;34m,\u001b[0m \u001b[0mn_jobs\u001b[0m\u001b[0;34m=\u001b[0m\u001b[0;34m-\u001b[0m\u001b[0;36m1\u001b[0m\u001b[0;34m)\u001b[0m\u001b[0;34m\u001b[0m\u001b[0;34m\u001b[0m\u001b[0m\n\u001b[0m\u001b[1;32m     12\u001b[0m \u001b[0;34m\u001b[0m\u001b[0m\n\u001b[1;32m     13\u001b[0m \u001b[0;31m# Fit the grid search to the data\u001b[0m\u001b[0;34m\u001b[0m\u001b[0;34m\u001b[0m\u001b[0m\n",
      "\u001b[0;31mNameError\u001b[0m: name 'clf' is not defined"
     ]
    }
   ],
   "source": [
    "# Define the parameter grid\n",
    "param_grid = {\n",
    "    'n_estimators': [100, 200, 300, 400, 500],\n",
    "    'max_depth': [None, 10, 20, 30, 40, 50],\n",
    "    'min_samples_split': [2, 5, 10],\n",
    "    'min_samples_leaf': [1, 2, 4],\n",
    "    'bootstrap': [True, False]\n",
    "}\n",
    "\n",
    "# Initialize the grid search model ***** NO CORRER LA MEJOR CONFIGURACIÓN YA ESTÁ ABAJO *****\n",
    "grid_search = GridSearchCV(estimator=clf, param_grid=param_grid, cv=5, scoring='roc_auc', verbose=2, n_jobs=-1)\n",
    "\n",
    "# Fit the grid search to the data\n",
    "grid_search.fit(X_train_res, y_train_res)\n",
    "\n",
    "# Get the best parameters\n",
    "best_params = grid_search.best_params_\n",
    "print(\"Best parameters: \", best_params)"
   ]
  },
  {
   "cell_type": "code",
   "execution_count": null,
   "metadata": {
    "colab": {
     "base_uri": "https://localhost:8080/",
     "height": 75
    },
    "executionInfo": {
     "elapsed": 5429,
     "status": "ok",
     "timestamp": 1712168746738,
     "user": {
      "displayName": "Iván Díaz de León Rodríguez",
      "userId": "10241861510245582635"
     },
     "user_tz": 360
    },
    "id": "hHZGd3YkJHrt",
    "outputId": "4484f136-cda3-41b5-9a2c-cbf003f0895b"
   },
   "outputs": [
    {
     "data": {
      "text/html": [
       "<style>#sk-container-id-1 {color: black;background-color: white;}#sk-container-id-1 pre{padding: 0;}#sk-container-id-1 div.sk-toggleable {background-color: white;}#sk-container-id-1 label.sk-toggleable__label {cursor: pointer;display: block;width: 100%;margin-bottom: 0;padding: 0.3em;box-sizing: border-box;text-align: center;}#sk-container-id-1 label.sk-toggleable__label-arrow:before {content: \"▸\";float: left;margin-right: 0.25em;color: #696969;}#sk-container-id-1 label.sk-toggleable__label-arrow:hover:before {color: black;}#sk-container-id-1 div.sk-estimator:hover label.sk-toggleable__label-arrow:before {color: black;}#sk-container-id-1 div.sk-toggleable__content {max-height: 0;max-width: 0;overflow: hidden;text-align: left;background-color: #f0f8ff;}#sk-container-id-1 div.sk-toggleable__content pre {margin: 0.2em;color: black;border-radius: 0.25em;background-color: #f0f8ff;}#sk-container-id-1 input.sk-toggleable__control:checked~div.sk-toggleable__content {max-height: 200px;max-width: 100%;overflow: auto;}#sk-container-id-1 input.sk-toggleable__control:checked~label.sk-toggleable__label-arrow:before {content: \"▾\";}#sk-container-id-1 div.sk-estimator input.sk-toggleable__control:checked~label.sk-toggleable__label {background-color: #d4ebff;}#sk-container-id-1 div.sk-label input.sk-toggleable__control:checked~label.sk-toggleable__label {background-color: #d4ebff;}#sk-container-id-1 input.sk-hidden--visually {border: 0;clip: rect(1px 1px 1px 1px);clip: rect(1px, 1px, 1px, 1px);height: 1px;margin: -1px;overflow: hidden;padding: 0;position: absolute;width: 1px;}#sk-container-id-1 div.sk-estimator {font-family: monospace;background-color: #f0f8ff;border: 1px dotted black;border-radius: 0.25em;box-sizing: border-box;margin-bottom: 0.5em;}#sk-container-id-1 div.sk-estimator:hover {background-color: #d4ebff;}#sk-container-id-1 div.sk-parallel-item::after {content: \"\";width: 100%;border-bottom: 1px solid gray;flex-grow: 1;}#sk-container-id-1 div.sk-label:hover label.sk-toggleable__label {background-color: #d4ebff;}#sk-container-id-1 div.sk-serial::before {content: \"\";position: absolute;border-left: 1px solid gray;box-sizing: border-box;top: 0;bottom: 0;left: 50%;z-index: 0;}#sk-container-id-1 div.sk-serial {display: flex;flex-direction: column;align-items: center;background-color: white;padding-right: 0.2em;padding-left: 0.2em;position: relative;}#sk-container-id-1 div.sk-item {position: relative;z-index: 1;}#sk-container-id-1 div.sk-parallel {display: flex;align-items: stretch;justify-content: center;background-color: white;position: relative;}#sk-container-id-1 div.sk-item::before, #sk-container-id-1 div.sk-parallel-item::before {content: \"\";position: absolute;border-left: 1px solid gray;box-sizing: border-box;top: 0;bottom: 0;left: 50%;z-index: -1;}#sk-container-id-1 div.sk-parallel-item {display: flex;flex-direction: column;z-index: 1;position: relative;background-color: white;}#sk-container-id-1 div.sk-parallel-item:first-child::after {align-self: flex-end;width: 50%;}#sk-container-id-1 div.sk-parallel-item:last-child::after {align-self: flex-start;width: 50%;}#sk-container-id-1 div.sk-parallel-item:only-child::after {width: 0;}#sk-container-id-1 div.sk-dashed-wrapped {border: 1px dashed gray;margin: 0 0.4em 0.5em 0.4em;box-sizing: border-box;padding-bottom: 0.4em;background-color: white;}#sk-container-id-1 div.sk-label label {font-family: monospace;font-weight: bold;display: inline-block;line-height: 1.2em;}#sk-container-id-1 div.sk-label-container {text-align: center;}#sk-container-id-1 div.sk-container {/* jupyter's `normalize.less` sets `[hidden] { display: none; }` but bootstrap.min.css set `[hidden] { display: none !important; }` so we also need the `!important` here to be able to override the default hidden behavior on the sphinx rendered scikit-learn.org. See: https://github.com/scikit-learn/scikit-learn/issues/21755 */display: inline-block !important;position: relative;}#sk-container-id-1 div.sk-text-repr-fallback {display: none;}</style><div id=\"sk-container-id-1\" class=\"sk-top-container\"><div class=\"sk-text-repr-fallback\"><pre>RandomForestClassifier(bootstrap=False, n_estimators=400, random_state=42)</pre><b>In a Jupyter environment, please rerun this cell to show the HTML representation or trust the notebook. <br />On GitHub, the HTML representation is unable to render, please try loading this page with nbviewer.org.</b></div><div class=\"sk-container\" hidden><div class=\"sk-item\"><div class=\"sk-estimator sk-toggleable\"><input class=\"sk-toggleable__control sk-hidden--visually\" id=\"sk-estimator-id-1\" type=\"checkbox\" checked><label for=\"sk-estimator-id-1\" class=\"sk-toggleable__label sk-toggleable__label-arrow\">RandomForestClassifier</label><div class=\"sk-toggleable__content\"><pre>RandomForestClassifier(bootstrap=False, n_estimators=400, random_state=42)</pre></div></div></div></div></div>"
      ],
      "text/plain": [
       "RandomForestClassifier(bootstrap=False, n_estimators=400, random_state=42)"
      ]
     },
     "execution_count": 17,
     "metadata": {},
     "output_type": "execute_result"
    }
   ],
   "source": [
    "# Train a new classifier using the best parameters found by the grid search\n",
    "best_params = {'bootstrap': False, 'max_depth': None, 'min_samples_leaf': 1, 'min_samples_split': 2, 'n_estimators': 400}\n",
    "clf_best = RandomForestClassifier(**best_params, random_state=42)\n",
    "clf_best.fit(X_train_res, y_train_res)\n"
   ]
  },
  {
   "cell_type": "code",
   "execution_count": null,
   "metadata": {
    "colab": {
     "base_uri": "https://localhost:8080/",
     "height": 631
    },
    "executionInfo": {
     "elapsed": 511,
     "status": "ok",
     "timestamp": 1712168749675,
     "user": {
      "displayName": "Iván Díaz de León Rodríguez",
      "userId": "10241861510245582635"
     },
     "user_tz": 360
    },
    "id": "TTBOULX__C8z",
    "outputId": "ee6f4003-0231-479e-d4ba-fe8fcdc35c2e"
   },
   "outputs": [
    {
     "name": "stdout",
     "output_type": "stream",
     "text": [
      "              precision    recall  f1-score   support\n",
      "\n",
      "         0.0       0.96      0.97      0.96       206\n",
      "         1.0       0.33      0.25      0.29        12\n",
      "\n",
      "    accuracy                           0.93       218\n",
      "   macro avg       0.65      0.61      0.62       218\n",
      "weighted avg       0.92      0.93      0.93       218\n",
      "\n"
     ]
    },
    {
     "data": {
      "image/png": "[encoded data removed]",
      "text/plain": [
       "<Figure size 640x480 with 1 Axes>"
      ]
     },
     "metadata": {},
     "output_type": "display_data"
    },
    {
     "name": "stdout",
     "output_type": "stream",
     "text": [
      "ROC AUC score:  0.6104368932038835\n"
     ]
    }
   ],
   "source": [
    "# Make predictions\n",
    "y_pred = clf_best.predict(X_test)\n",
    "\n",
    "# Print classification report\n",
    "print(classification_report(y_test, y_pred))\n",
    "\n",
    "# Print confusion matrix\n",
    "cm = confusion_matrix(y_test, y_pred)\n",
    "sns.heatmap(cm, annot=True, cbar=False, fmt='d', cmap='Blues', xticklabels=['Non-Elite', 'Elite'], yticklabels=['Non-Elite', 'Elite'])\n",
    "plt.title('Confusion Matrix')\n",
    "plt.show()\n",
    "\n",
    "# Print ROC AUC score\n",
    "print('ROC AUC score: ', roc_auc_score(y_test, y_pred))"
   ]
  },
  {
   "cell_type": "code",
   "execution_count": null,
   "metadata": {
    "id": "r5ADHuS8DWzc"
   },
   "outputs": [],
   "source": [
    "# Define the parameter grid\n",
    "param_grid = {\n",
    "    'n_estimators': [100, 200, 300, 400, 500],\n",
    "    'max_depth': [None, 10, 20, 30, 40, 50],\n",
    "    'min_samples_split': [2, 5, 10],\n",
    "    'min_samples_leaf': [1, 2, 4],\n",
    "    'bootstrap': [True, False]\n",
    "}\n",
    "\n",
    "# Initialize the grid search model\n",
    "grid_search = GridSearchCV(estimator=clf, param_grid=param_grid, cv=5, scoring='roc_auc', verbose=2, n_jobs=-1)\n",
    "\n",
    "# Fit the grid search to the data\n",
    "grid_search.fit(X_train_res, y_train_res)\n",
    "\n",
    "# Get the best parameters\n",
    "best_params = grid_search.best_params_\n",
    "print(\"Best parameters: \", best_params)\n",
    "\n",
    "# Train a new classifier using the best parameters found by the grid search\n",
    "clf_best = RandomForestClassifier(**best_params, random_state=42)\n",
    "clf_best.fit(X_train_res, y_train_res)\n"
   ]
  },
  {
   "cell_type": "markdown",
   "metadata": {
    "id": "SPExI0l1HQAo"
   },
   "source": [
    "### Cross-validation"
   ]
  },
  {
   "cell_type": "code",
   "execution_count": null,
   "metadata": {
    "colab": {
     "base_uri": "https://localhost:8080/",
     "height": 686
    },
    "executionInfo": {
     "elapsed": 31180,
     "status": "ok",
     "timestamp": 1712168961569,
     "user": {
      "displayName": "Iván Díaz de León Rodríguez",
      "userId": "10241861510245582635"
     },
     "user_tz": 360
    },
    "id": "wBD833H3HY0O",
    "outputId": "e9a73062-08fa-485d-f1a1-42d890a0bf74"
   },
   "outputs": [
    {
     "name": "stdout",
     "output_type": "stream",
     "text": [
      "[0.92709706 0.86871139 0.87731686 0.8729038  0.91460724]\n",
      "Average AUC-ROC with SMOTE for Random Forest: 0.8921272667579127\n",
      "Classification Report:\n",
      "               precision    recall  f1-score   support\n",
      "\n",
      "         0.0       0.97      0.97      0.97      1031\n",
      "         1.0       0.39      0.35      0.37        55\n",
      "\n",
      "    accuracy                           0.94      1086\n",
      "   macro avg       0.68      0.66      0.67      1086\n",
      "weighted avg       0.94      0.94      0.94      1086\n",
      "\n"
     ]
    },
    {
     "data": {
      "image/png": "[encoded data removed]",
      "text/plain": [
       "<Figure size 640x480 with 1 Axes>"
      ]
     },
     "metadata": {},
     "output_type": "display_data"
    }
   ],
   "source": [
    "best_params = {'bootstrap': False, 'max_depth': None, 'min_samples_leaf': 1, 'min_samples_split': 2, 'n_estimators': 400}\n",
    "from sklearn.model_selection import cross_val_score, cross_val_predict, StratifiedKFold\n",
    "from sklearn.ensemble import RandomForestClassifier\n",
    "from imblearn.pipeline import make_pipeline as make_imb_pipeline\n",
    "from imblearn.over_sampling import SMOTE\n",
    "\n",
    "# Assuming X and y are your feature matrix and target variable\n",
    "# Assuming best_params is your dictionary of hyperparameters\n",
    "\n",
    "# Create the RandomForestClassifier with the best_params\n",
    "clf_best = RandomForestClassifier(**best_params, random_state=42, class_weight='balanced')\n",
    "\n",
    "# Specify the cross-validation strategy (StratifiedKFold is often used for classification tasks)\n",
    "cv_strategy = StratifiedKFold(n_splits=5, shuffle=True, random_state=42)\n",
    "\n",
    "# Create a pipeline with SMOTE and the classifier using imbalanced-learn's make_pipeline\n",
    "pipeline_rf = make_imb_pipeline(SMOTE(random_state=42), clf_best)\n",
    "\n",
    "# Perform cross-validation\n",
    "cv_scores = cross_val_score(pipeline_rf, X, y, cv=cv_strategy, scoring='roc_auc')\n",
    "print(cv_scores)\n",
    "\n",
    "# Print the average AUC-ROC across folds\n",
    "print(\"Average AUC-ROC with SMOTE for Random Forest:\", cv_scores.mean())\n",
    "\n",
    "# Perform cross-validated predictions\n",
    "predicted_labels_rf = cross_val_predict(pipeline_rf, X, y, cv=cv_strategy)\n",
    "\n",
    "# Print the classification report\n",
    "print(\"Classification Report:\\n\", classification_report(y, predicted_labels_rf))\n",
    "\n",
    "# Generate the confusion matrix\n",
    "conf_matrix = confusion_matrix(y, predicted_labels_rf)\n",
    "\n",
    "# Plot the confusion matrix\n",
    "sns.heatmap(conf_matrix, annot=True, fmt='d', cmap='Blues', cbar=False,\n",
    "            xticklabels=['Non-Elite', 'Elite'],\n",
    "            yticklabels=['Non-Elite', 'Elite'])\n",
    "plt.xlabel('Predicted')\n",
    "plt.ylabel('True')\n",
    "plt.title('Confusion Matrix - Random Forest')\n",
    "plt.show()"
   ]
  },
  {
   "cell_type": "code",
   "execution_count": null,
   "metadata": {
    "colab": {
     "base_uri": "https://localhost:8080/"
    },
    "executionInfo": {
     "elapsed": 171,
     "status": "ok",
     "timestamp": 1709515545080,
     "user": {
      "displayName": "Iván Díaz de León Rodríguez",
      "userId": "10241861510245582635"
     },
     "user_tz": 360
    },
    "id": "rvzAncvmEQZP",
    "outputId": "a97bb5df-ede6-41ca-ce5a-37b19def3ecc"
   },
   "outputs": [
    {
     "data": {
      "text/plain": [
       "array([0.86918349, 0.95351368, 0.928949  , 0.92599502, 0.87088235])"
      ]
     },
     "execution_count": 74,
     "metadata": {},
     "output_type": "execute_result"
    }
   ],
   "source": [
    "cv_scores"
   ]
  },
  {
   "cell_type": "markdown",
   "metadata": {
    "id": "i4UEzh_02UMh"
   },
   "source": [
    "### Feature Importance"
   ]
  },
  {
   "cell_type": "code",
   "execution_count": null,
   "metadata": {
    "colab": {
     "base_uri": "https://localhost:8080/"
    },
    "executionInfo": {
     "elapsed": 10250,
     "status": "ok",
     "timestamp": 1712169011945,
     "user": {
      "displayName": "Iván Díaz de León Rodríguez",
      "userId": "10241861510245582635"
     },
     "user_tz": 360
    },
    "id": "gkvbiYND2Waz",
    "outputId": "06c2b8c7-60af-4336-cfc9-eaff635b3a7e"
   },
   "outputs": [
    {
     "name": "stdout",
     "output_type": "stream",
     "text": [
      "            feature  importance\n",
      "5      wg_avg_value    0.274146\n",
      "7        wg_avg_pot    0.174015\n",
      "6       wg_avg_ovrl    0.104693\n",
      "10       wg_avg_pas    0.080762\n",
      "11       wg_avg_dri    0.060207\n",
      "8        wg_avg_pac    0.050463\n",
      "13       wg_avg_phy    0.041892\n",
      "9        wg_avg_sho    0.037607\n",
      "1        wg_avg_min    0.035120\n",
      "0         wg_avg_mp    0.032268\n",
      "3       wg_avg_asst    0.030370\n",
      "4   wg_avg_gls_asst    0.029456\n",
      "2        wg_avg_gls    0.029233\n",
      "12       wg_avg_def    0.019769\n"
     ]
    }
   ],
   "source": [
    "clf_best.fit(X_train_res, y_train_res)\n",
    "# Get feature importances\n",
    "importances_rf = clf_best.feature_importances_\n",
    "\n",
    "# Convert importances to a DataFrame\n",
    "importances_rf_df = pd.DataFrame({'feature': X.columns, 'importance': importances_rf})\n",
    "\n",
    "# Sort DataFrame by importance\n",
    "importances_rf_df = importances_rf_df.sort_values('importance', ascending=False)\n",
    "\n",
    "# Print feature importances\n",
    "print(importances_rf_df)\n"
   ]
  },
  {
   "cell_type": "markdown",
   "metadata": {
    "id": "GkSOQnNVgmLI"
   },
   "source": [
    "## Gradient Boosting"
   ]
  },
  {
   "cell_type": "markdown",
   "metadata": {
    "id": "2ZzhH0xeDbhD"
   },
   "source": [
    "### Main GB"
   ]
  },
  {
   "cell_type": "code",
   "execution_count": null,
   "metadata": {
    "colab": {
     "base_uri": "https://localhost:8080/",
     "height": 631
    },
    "executionInfo": {
     "elapsed": 4619,
     "status": "ok",
     "timestamp": 1712169392029,
     "user": {
      "displayName": "Iván Díaz de León Rodríguez",
      "userId": "10241861510245582635"
     },
     "user_tz": 360
    },
    "id": "Ouz-G4BGFWvP",
    "outputId": "cf58166e-cadf-4b8f-f909-1150b3126c46"
   },
   "outputs": [
    {
     "name": "stdout",
     "output_type": "stream",
     "text": [
      "              precision    recall  f1-score   support\n",
      "\n",
      "         0.0       0.97      0.97      0.97       206\n",
      "         1.0       0.45      0.42      0.43        12\n",
      "\n",
      "    accuracy                           0.94       218\n",
      "   macro avg       0.71      0.69      0.70       218\n",
      "weighted avg       0.94      0.94      0.94       218\n",
      "\n"
     ]
    },
    {
     "data": {
      "image/png": "[encoded data removed]",
      "text/plain": [
       "<Figure size 640x480 with 2 Axes>"
      ]
     },
     "metadata": {},
     "output_type": "display_data"
    },
    {
     "name": "stdout",
     "output_type": "stream",
     "text": [
      "ROC AUC score:  0.6937702265372169\n"
     ]
    }
   ],
   "source": [
    "# Initialize the model\n",
    "best_params_gb = {'learning_rate': 0.3, 'max_depth': 10, 'min_samples_leaf': 2, 'min_samples_split': 5, 'n_estimators': 200, 'subsample': 0.7}\n",
    "gb_best = GradientBoostingClassifier(**best_params_gb, random_state=42)\n",
    "gb_best.fit(X_train_res, y_train_res)\n",
    "\n",
    "# Train the model\n",
    "gb_best.fit(X_train_res, y_train_res)\n",
    "\n",
    "# Make predictions\n",
    "y_pred_gb = gb_best.predict(X_test)\n",
    "\n",
    "# Print classification report\n",
    "print(classification_report(y_test, y_pred_gb))\n",
    "\n",
    "# Print confusion matrix\n",
    "cm_gb = confusion_matrix(y_test, y_pred_gb)\n",
    "sns.heatmap(cm_gb, annot=True, fmt='d')\n",
    "plt.title('Confusion Matrix')\n",
    "plt.show()\n",
    "\n",
    "# Print ROC AUC score\n",
    "print('ROC AUC score: ', roc_auc_score(y_test, y_pred_gb))\n"
   ]
  },
  {
   "cell_type": "code",
   "execution_count": null,
   "metadata": {
    "colab": {
     "base_uri": "https://localhost:8080/"
    },
    "id": "GF11Z7nWGiAv",
    "outputId": "5f2c802c-b2da-457c-9adf-0b583da1ac6a"
   },
   "outputs": [
    {
     "name": "stdout",
     "output_type": "stream",
     "text": [
      "Fitting 5 folds for each of 3240 candidates, totalling 16200 fits\n"
     ]
    }
   ],
   "source": [
    "# Define the parameter grid\n",
    "param_grid_gb = {\n",
    "    'n_estimators': [100, 200, 300, 400, 500],\n",
    "    'learning_rate': [0.01, 0.1, 0.2, 0.3],\n",
    "    'max_depth': [None, 10, 20, 30, 40, 50],\n",
    "    'min_samples_split': [2, 5, 10],\n",
    "    'min_samples_leaf': [1, 2, 4],\n",
    "    'subsample': [0.5, 0.7, 1]\n",
    "}\n",
    "\n",
    "# Initialize the grid search model\n",
    "grid_search_gb = GridSearchCV(estimator=gb, param_grid=param_grid_gb, cv=5, scoring='roc_auc', verbose=2, n_jobs=-1)\n",
    "\n",
    "# Fit the grid search to the data\n",
    "grid_search_gb.fit(X_train_res, y_train_res)\n",
    "\n",
    "# Get the best parameters\n",
    "best_params_gb = grid_search_gb.best_params_\n",
    "print(\"Best parameters: \", best_params_gb)\n"
   ]
  },
  {
   "cell_type": "markdown",
   "metadata": {
    "id": "SD0BqXDCHIsV"
   },
   "source": [
    "### Cross-validation GB"
   ]
  },
  {
   "cell_type": "code",
   "execution_count": null,
   "metadata": {
    "colab": {
     "base_uri": "https://localhost:8080/",
     "height": 686
    },
    "executionInfo": {
     "elapsed": 44379,
     "status": "ok",
     "timestamp": 1712169443021,
     "user": {
      "displayName": "Iván Díaz de León Rodríguez",
      "userId": "10241861510245582635"
     },
     "user_tz": 360
    },
    "id": "Pq7jtgmiHLD2",
    "outputId": "5d9b8715-b161-44a9-fd21-f4ece90f6f68"
   },
   "outputs": [
    {
     "name": "stdout",
     "output_type": "stream",
     "text": [
      "[0.92138779 0.89938217 0.86451898 0.86981465 0.90203001]\n",
      "Average AUC-ROC with SMOTE for Gradient Boosting: 0.8914267197086951\n",
      "Classification Report:\n",
      "               precision    recall  f1-score   support\n",
      "\n",
      "         0.0       0.97      0.96      0.97      1031\n",
      "         1.0       0.39      0.44      0.41        55\n",
      "\n",
      "    accuracy                           0.94      1086\n",
      "   macro avg       0.68      0.70      0.69      1086\n",
      "weighted avg       0.94      0.94      0.94      1086\n",
      "\n"
     ]
    },
    {
     "data": {
      "image/png": "[encoded data removed]",
      "text/plain": [
       "<Figure size 640x480 with 1 Axes>"
      ]
     },
     "metadata": {},
     "output_type": "display_data"
    }
   ],
   "source": [
    "from sklearn.model_selection import cross_val_score, StratifiedKFold\n",
    "from sklearn.ensemble import RandomForestClassifier\n",
    "from imblearn.pipeline import make_pipeline as make_imb_pipeline\n",
    "from imblearn.over_sampling import SMOTE\n",
    "from sklearn.metrics import confusion_matrix\n",
    "\n",
    "# Train a new classifier using the best parameters found by the grid search\n",
    "best_params_gb = {'learning_rate': 0.3, 'max_depth': 10, 'min_samples_leaf': 2, 'min_samples_split': 5, 'n_estimators': 200, 'subsample': 0.7}\n",
    "gb_best = GradientBoostingClassifier(**best_params_gb, random_state=42)\n",
    "\n",
    "# Specify the cross-validation strategy (StratifiedKFold is often used for classification tasks)\n",
    "cv_strategy = StratifiedKFold(n_splits=5, shuffle=True, random_state=42)\n",
    "\n",
    "# Create a pipeline with SMOTE and the classifier using imbalanced-learn's make_pipeline\n",
    "pipeline_gb = make_imb_pipeline(SMOTE(random_state=42), gb_best)\n",
    "\n",
    "# Perform cross-validation\n",
    "cv_scores_gb = cross_val_score(pipeline_gb, X, y, cv=cv_strategy, scoring='roc_auc')\n",
    "print(cv_scores_gb)\n",
    "\n",
    "# Print the average AUC-ROC across folds\n",
    "print(\"Average AUC-ROC with SMOTE for Gradient Boosting:\", cv_scores_gb.mean())\n",
    "\n",
    "# Perform cross-validated predictions\n",
    "predicted_labels_gb = cross_val_predict(pipeline_gb, X, y, cv=cv_strategy)\n",
    "\n",
    "# Print the classification report\n",
    "print(\"Classification Report:\\n\", classification_report(y, predicted_labels_gb))\n",
    "\n",
    "# Generate the confusion matrix\n",
    "conf_matrix = confusion_matrix(y, predicted_labels_gb)\n",
    "\n",
    "# Plot the confusion matrix\n",
    "sns.heatmap(conf_matrix, annot=True, fmt='d', cmap='Blues', cbar=False,\n",
    "            xticklabels=['Non-Elite', 'Elite'],\n",
    "            yticklabels=['Non-Elite', 'Elite'])\n",
    "plt.xlabel('Predicted')\n",
    "plt.ylabel('True')\n",
    "plt.title('Confusion Matrix - Gradient Boosting')\n",
    "plt.show()\n"
   ]
  },
  {
   "cell_type": "markdown",
   "metadata": {
    "id": "rA9TzUV82dMV"
   },
   "source": [
    "### Feature Importance"
   ]
  },
  {
   "cell_type": "code",
   "execution_count": null,
   "metadata": {
    "colab": {
     "base_uri": "https://localhost:8080/"
    },
    "executionInfo": {
     "elapsed": 5767,
     "status": "ok",
     "timestamp": 1712169510321,
     "user": {
      "displayName": "Iván Díaz de León Rodríguez",
      "userId": "10241861510245582635"
     },
     "user_tz": 360
    },
    "id": "5VuMCnY62fWQ",
    "outputId": "bfc8e075-a74e-4112-f7e3-e5ddaaa17189"
   },
   "outputs": [
    {
     "name": "stdout",
     "output_type": "stream",
     "text": [
      "            feature  importance\n",
      "5      wg_avg_value    0.561679\n",
      "10       wg_avg_pas    0.101275\n",
      "7        wg_avg_pot    0.071468\n",
      "3       wg_avg_asst    0.048159\n",
      "13       wg_avg_phy    0.035066\n",
      "4   wg_avg_gls_asst    0.032205\n",
      "1        wg_avg_min    0.029923\n",
      "9        wg_avg_sho    0.024917\n",
      "6       wg_avg_ovrl    0.020061\n",
      "0         wg_avg_mp    0.018570\n",
      "2        wg_avg_gls    0.018421\n",
      "11       wg_avg_dri    0.017625\n",
      "8        wg_avg_pac    0.014430\n",
      "12       wg_avg_def    0.006203\n"
     ]
    }
   ],
   "source": [
    "gb_best.fit(X_train_res, y_train_res)\n",
    "# Get feature importances\n",
    "importances_gb = gb_best.feature_importances_\n",
    "\n",
    "# Convert importances to a DataFrame\n",
    "importances_gb_df = pd.DataFrame({'feature': X.columns, 'importance': importances_gb})\n",
    "\n",
    "# Sort DataFrame by importance\n",
    "importances_gb_df = importances_gb_df.sort_values('importance', ascending=False)\n",
    "\n",
    "# Print feature importances\n",
    "print(importances_gb_df)\n"
   ]
  },
  {
   "cell_type": "markdown",
   "metadata": {
    "id": "5sZ2r2t6g995"
   },
   "source": [
    "## Support Vector Machine"
   ]
  },
  {
   "cell_type": "markdown",
   "metadata": {
    "id": "XGpqkJs6EVbD"
   },
   "source": [
    "### Main SVM"
   ]
  },
  {
   "cell_type": "code",
   "execution_count": null,
   "metadata": {
    "colab": {
     "base_uri": "https://localhost:8080/",
     "height": 648
    },
    "executionInfo": {
     "elapsed": 1247,
     "status": "ok",
     "timestamp": 1712169529393,
     "user": {
      "displayName": "Iván Díaz de León Rodríguez",
      "userId": "10241861510245582635"
     },
     "user_tz": 360
    },
    "id": "FFVdJLbHEUlv",
    "outputId": "f1c6f370-71e1-4f2b-9fb5-9b40ac854d2a"
   },
   "outputs": [
    {
     "name": "stdout",
     "output_type": "stream",
     "text": [
      "Best parameters:  {'C': 10, 'gamma': 0.001}\n",
      "              precision    recall  f1-score   support\n",
      "\n",
      "         0.0       0.95      0.39      0.56       206\n",
      "         1.0       0.06      0.67      0.11        12\n",
      "\n",
      "    accuracy                           0.41       218\n",
      "   macro avg       0.51      0.53      0.33       218\n",
      "weighted avg       0.90      0.41      0.53       218\n",
      "\n"
     ]
    },
    {
     "data": {
      "image/png": "[encoded data removed]",
      "text/plain": [
       "<Figure size 640x480 with 2 Axes>"
      ]
     },
     "metadata": {},
     "output_type": "display_data"
    },
    {
     "name": "stdout",
     "output_type": "stream",
     "text": [
      "ROC AUC score:  0.5299352750809061\n"
     ]
    }
   ],
   "source": [
    "from sklearn.svm import SVC\n",
    "\n",
    "best_params_svc = {'C': 10, 'gamma': 0.001}\n",
    "print(\"Best parameters: \", best_params_svc)\n",
    "\n",
    "# Train a new classifier using the best parameters found by the grid search\n",
    "svc_best = SVC(**best_params_svc, random_state=42, class_weight='balanced', probability=True)\n",
    "\n",
    "# Initialize the model\n",
    "# svc_best = SVC(C=1, gamma='scale', random_state=42, class_weight='balanced', )\n",
    "\n",
    "# Train the model\n",
    "svc_best.fit(X_train_res, y_train_res)\n",
    "\n",
    "# Make predictions\n",
    "y_pred_svc = svc_best.predict(X_test)\n",
    "\n",
    "# Print classification report\n",
    "print(classification_report(y_test, y_pred_svc))\n",
    "\n",
    "# Print confusion matrix\n",
    "cm_svc = confusion_matrix(y_test, y_pred_svc)\n",
    "sns.heatmap(cm_svc, annot=True, fmt='d')\n",
    "plt.title('Confusion Matrix')\n",
    "plt.show()\n",
    "\n",
    "# Print ROC AUC score\n",
    "print('ROC AUC score: ', roc_auc_score(y_test, y_pred_svc))"
   ]
  },
  {
   "cell_type": "markdown",
   "metadata": {
    "id": "aMWvWILEEXsA"
   },
   "source": [
    "### Cross-validation SVM"
   ]
  },
  {
   "cell_type": "code",
   "execution_count": null,
   "metadata": {
    "colab": {
     "base_uri": "https://localhost:8080/",
     "height": 704
    },
    "executionInfo": {
     "elapsed": 5176,
     "status": "ok",
     "timestamp": 1712169548662,
     "user": {
      "displayName": "Iván Díaz de León Rodríguez",
      "userId": "10241861510245582635"
     },
     "user_tz": 360
    },
    "id": "2KLjTs1GEfmf",
    "outputId": "1801d022-3537-41e4-9db0-ebcb57c0120b"
   },
   "outputs": [
    {
     "name": "stdout",
     "output_type": "stream",
     "text": [
      "Best parameters:  {'C': 10, 'gamma': 0.001}\n",
      "[0.93895477 0.92806708 0.91482789 0.80141218 0.96337158]\n",
      "Average AUC-ROC with SMOTE: 0.9093266988159348\n",
      "Classification Report:\n",
      "               precision    recall  f1-score   support\n",
      "\n",
      "         0.0       0.99      0.90      0.94      1031\n",
      "         1.0       0.30      0.78      0.44        55\n",
      "\n",
      "    accuracy                           0.90      1086\n",
      "   macro avg       0.65      0.84      0.69      1086\n",
      "weighted avg       0.95      0.90      0.92      1086\n",
      "\n"
     ]
    },
    {
     "data": {
      "image/png": "[encoded data removed]",
      "text/plain": [
       "<Figure size 640x480 with 1 Axes>"
      ]
     },
     "metadata": {},
     "output_type": "display_data"
    }
   ],
   "source": [
    "from sklearn.model_selection import cross_val_score, cross_val_predict, StratifiedKFold\n",
    "from imblearn.pipeline import make_pipeline as make_imb_pipeline\n",
    "from imblearn.over_sampling import SMOTE\n",
    "from sklearn.svm import SVC\n",
    "\n",
    "best_params_svc = {'C': 10, 'gamma': 0.001}\n",
    "print(\"Best parameters: \", best_params_svc)\n",
    "\n",
    "# Train a new classifier using the best parameters found by the grid search\n",
    "svc_best = SVC(**best_params_svc, random_state=42, class_weight='balanced', probability=True)\n",
    "\n",
    "# Specify the cross-validation strategy (StratifiedKFold is often used for classification tasks)\n",
    "cv_strategy = StratifiedKFold(n_splits=5, shuffle=True, random_state=42)\n",
    "\n",
    "# Create a pipeline with SMOTE and the classifier using imbalanced-learn's make_pipeline\n",
    "pipeline_svc = make_imb_pipeline(SMOTE(random_state=42), StandardScaler(), svc_best)\n",
    "\n",
    "# Perform cross-validation\n",
    "cv_scores_svc = cross_val_score(pipeline_svc, X, y, cv=cv_strategy, scoring='roc_auc')\n",
    "print(cv_scores_svc)\n",
    "\n",
    "# Print the average AUC-ROC across folds\n",
    "print(\"Average AUC-ROC with SMOTE:\", cv_scores_svc.mean())\n",
    "\n",
    "# Perform cross-validated predictions\n",
    "predicted_labels_svc = cross_val_predict(pipeline_svc, X, y, cv=cv_strategy)\n",
    "\n",
    "# Print the classification report\n",
    "print(\"Classification Report:\\n\", classification_report(y, predicted_labels_svc))\n",
    "\n",
    "# Generate the confusion matrix\n",
    "conf_matrix = confusion_matrix(y, predicted_labels_svc)\n",
    "\n",
    "# Plot the confusion matrix\n",
    "sns.heatmap(conf_matrix, annot=True, fmt='d', cmap='Blues', cbar=False,\n",
    "            xticklabels=['Non-Elite', 'Elite'],\n",
    "            yticklabels=['Non-Elite', 'Elite'])\n",
    "plt.xlabel('Predicted')\n",
    "plt.ylabel('True')\n",
    "plt.title('Confusion Matrix - SVM')\n",
    "plt.show()"
   ]
  },
  {
   "cell_type": "markdown",
   "metadata": {
    "id": "cwDgB1GA2xki"
   },
   "source": [
    "### Feature Importance"
   ]
  },
  {
   "cell_type": "code",
   "execution_count": null,
   "metadata": {
    "colab": {
     "base_uri": "https://localhost:8080/"
    },
    "executionInfo": {
     "elapsed": 3683,
     "status": "ok",
     "timestamp": 1712170536751,
     "user": {
      "displayName": "Iván Díaz de León Rodríguez",
      "userId": "10241861510245582635"
     },
     "user_tz": 360
    },
    "id": "aaOMoAQ32zmr",
    "outputId": "2625af8c-00f6-4ed2-9741-1a18417ab6ea"
   },
   "outputs": [
    {
     "name": "stdout",
     "output_type": "stream",
     "text": [
      "Feature 0: wg_avg_mp, Score: 0.00121\n",
      "Feature 1: wg_avg_min, Score: 0.04830\n",
      "Feature 2: wg_avg_gls, Score: 0.00000\n",
      "Feature 3: wg_avg_asst, Score: 0.00000\n",
      "Feature 4: wg_avg_gls_asst, Score: -0.00016\n",
      "Feature 5: wg_avg_value, Score: 0.18265\n",
      "Feature 6: wg_avg_ovrl, Score: 0.00364\n",
      "Feature 7: wg_avg_pot, Score: 0.00485\n",
      "Feature 8: wg_avg_pac, Score: 0.00316\n",
      "Feature 9: wg_avg_sho, Score: 0.00348\n",
      "Feature 10: wg_avg_pas, Score: 0.00388\n",
      "Feature 11: wg_avg_dri, Score: 0.00243\n",
      "Feature 12: wg_avg_def, Score: 0.00218\n",
      "Feature 13: wg_avg_phy, Score: 0.00413\n"
     ]
    }
   ],
   "source": [
    "from sklearn.inspection import permutation_importance\n",
    "\n",
    "svc_best.fit(X_train_res, y_train_res)\n",
    "# Perform permutation importance\n",
    "results = permutation_importance(svc_best, X_test, y_test, scoring='roc_auc')\n",
    "\n",
    "# Get importance\n",
    "importance = results.importances_mean\n",
    "\n",
    "# Summarize feature importance\n",
    "for i, j in enumerate(importance):\n",
    "    print('Feature %d: %s, Score: %.5f' % (i, X.columns[i], j))\n"
   ]
  },
  {
   "cell_type": "code",
   "execution_count": null,
   "metadata": {
    "colab": {
     "base_uri": "https://localhost:8080/",
     "height": 216
    },
    "executionInfo": {
     "elapsed": 1,
     "status": "error",
     "timestamp": 1728422712183,
     "user": {
      "displayName": "Iván Díaz de León Rodríguez",
      "userId": "10241861510245582635"
     },
     "user_tz": 360
    },
    "id": "xNsSE9kZkyZw",
    "outputId": "e773ef6a-72a0-468f-dd72-23067f7981ec"
   },
   "outputs": [
    {
     "ename": "NameError",
     "evalue": "name 'y_test' is not defined",
     "output_type": "error",
     "traceback": [
      "\u001b[0;31m---------------------------------------------------------------------------\u001b[0m",
      "\u001b[0;31mNameError\u001b[0m                                 Traceback (most recent call last)",
      "\u001b[0;32m<ipython-input-1-fd687a074b5c>\u001b[0m in \u001b[0;36m<cell line: 6>\u001b[0;34m()\u001b[0m\n\u001b[1;32m      4\u001b[0m \u001b[0;31m# Compute ROC curve and ROC area for each class\u001b[0m\u001b[0;34m\u001b[0m\u001b[0;34m\u001b[0m\u001b[0m\n\u001b[1;32m      5\u001b[0m \u001b[0;34m\u001b[0m\u001b[0m\n\u001b[0;32m----> 6\u001b[0;31m \u001b[0mfpr_rf\u001b[0m\u001b[0;34m,\u001b[0m \u001b[0mtpr_rf\u001b[0m\u001b[0;34m,\u001b[0m \u001b[0m_\u001b[0m \u001b[0;34m=\u001b[0m \u001b[0mroc_curve\u001b[0m\u001b[0;34m(\u001b[0m\u001b[0my_test\u001b[0m\u001b[0;34m,\u001b[0m \u001b[0mclf_best\u001b[0m\u001b[0;34m.\u001b[0m\u001b[0mpredict_proba\u001b[0m\u001b[0;34m(\u001b[0m\u001b[0mX_test\u001b[0m\u001b[0;34m)\u001b[0m\u001b[0;34m[\u001b[0m\u001b[0;34m:\u001b[0m\u001b[0;34m,\u001b[0m \u001b[0;36m1\u001b[0m\u001b[0;34m]\u001b[0m\u001b[0;34m)\u001b[0m\u001b[0;34m\u001b[0m\u001b[0;34m\u001b[0m\u001b[0m\n\u001b[0m\u001b[1;32m      7\u001b[0m \u001b[0mroc_auc_rf\u001b[0m \u001b[0;34m=\u001b[0m \u001b[0mauc\u001b[0m\u001b[0;34m(\u001b[0m\u001b[0mfpr_rf\u001b[0m\u001b[0;34m,\u001b[0m \u001b[0mtpr_rf\u001b[0m\u001b[0;34m)\u001b[0m\u001b[0;34m\u001b[0m\u001b[0;34m\u001b[0m\u001b[0m\n\u001b[1;32m      8\u001b[0m \u001b[0;34m\u001b[0m\u001b[0m\n",
      "\u001b[0;31mNameError\u001b[0m: name 'y_test' is not defined"
     ]
    }
   ],
   "source": [
    "from sklearn.metrics import roc_curve, auc\n",
    "import matplotlib.pyplot as plt\n",
    "\n",
    "# Compute ROC curve and ROC area for each class\n",
    "\n",
    "fpr_rf, tpr_rf, _ = roc_curve(y_test, clf_best.predict_proba(X_test)[:, 1])\n",
    "roc_auc_rf = auc(fpr_rf, tpr_rf)\n",
    "\n",
    "fpr_gb, tpr_gb, _ = roc_curve(y_test, gb_best.predict_proba(X_test)[:, 1])\n",
    "roc_auc_gb = auc(fpr_gb, tpr_gb)\n",
    "\n",
    "fpr_svc, tpr_svc, _ = roc_curve(y_test, svc_best.decision_function(X_test))\n",
    "roc_auc_svc = auc(fpr_svc, tpr_svc)\n",
    "\n",
    "# Plot the ROC curve\n",
    "plt.figure()\n",
    "lw = 2\n",
    "plt.plot(fpr_rf, tpr_rf, color='darkorange', lw=lw, label='Random Forest (area = %0.2f)' % roc_auc_rf)\n",
    "plt.plot(fpr_gb, tpr_gb, color='green', lw=lw, label='Gradient Boosting (area = %0.2f)' % roc_auc_gb)\n",
    "plt.plot(fpr_svc, tpr_svc, color='blue', lw=lw, label='SVM (area = %0.2f)' % roc_auc_svc)\n",
    "plt.plot([0, 1], [0, 1], color='navy', lw=lw, linestyle='--')\n",
    "plt.xlim([0.0, 1.0])\n",
    "plt.ylim([0.0, 1.05])\n",
    "plt.xlabel('False Positive Rate')\n",
    "plt.ylabel('True Positive Rate')\n",
    "plt.title('Receiver Operating Characteristic')\n",
    "plt.legend(loc=\"lower right\")\n",
    "plt.show()\n"
   ]
  },
  {
   "cell_type": "markdown",
   "metadata": {
    "id": "PCDjdJXdqcWb"
   },
   "source": [
    "# Unsupervised learning"
   ]
  },
  {
   "cell_type": "markdown",
   "metadata": {
    "id": "Ig-fVl52hXC6"
   },
   "source": [
    "## Isolation Forest"
   ]
  },
  {
   "cell_type": "markdown",
   "metadata": {
    "id": "HT1oHxMHheGF"
   },
   "source": [
    "\n",
    "\n",
    "* Isolation Forest is an ensemble-based algorithm that works by randomly selecting features and creating isolation trees to isolate anomalies. Anomalies are expected to be isolated faster than normal instances.\n",
    "* It is particularly effective for high-dimensional datasets and is less sensitive to outliers in the majority class.\n",
    "* For this we're using a \"Supervised Variant\" where you train the model only on normal instances and then identify instances with lower outlier scores as anomalies\n",
    "\n"
   ]
  },
  {
   "cell_type": "markdown",
   "metadata": {
    "id": "nwZeDMQ9SPTR"
   },
   "source": [
    "### Without Standarization:"
   ]
  },
  {
   "cell_type": "code",
   "execution_count": null,
   "metadata": {
    "colab": {
     "base_uri": "https://localhost:8080/"
    },
    "executionInfo": {
     "elapsed": 160,
     "status": "ok",
     "timestamp": 1706818043335,
     "user": {
      "displayName": "Iván Díaz de León Rodríguez",
      "userId": "10241861510245582635"
     },
     "user_tz": 360
    },
    "id": "chY3w5XzhN6L",
    "outputId": "f076ca0e-f303-4f18-e75e-28198ac5a77e"
   },
   "outputs": [
    {
     "name": "stdout",
     "output_type": "stream",
     "text": [
      "The number of records in the training dataset is 917\n",
      "The number of records in the test dataset is 230\n",
      "The training dataset has 852 records for the majority class and 65 records for the \n",
      "minority class, resulting in 0.07088331515812432 percentage of the minority class in the entire dataset.\n"
     ]
    }
   ],
   "source": [
    "mayority_class = sorted(Counter(y_train).items())[0][1]\n",
    "minority_class = sorted(Counter(y_train).items())[1][1]\n",
    "ratio = minority_class/(mayority_class + minority_class)\n",
    "\n",
    "# Check the number of records\n",
    "print('The number of records in the training dataset is', X_train.shape[0])\n",
    "print('The number of records in the test dataset is', X_test.shape[0])\n",
    "print(f\"The training dataset has {sorted(Counter(y_train).items())[0][1]} \\\n",
    "records for the majority class and {sorted(Counter(y_train).items())[1][1]} \\\n",
    "records for the \\nminority class, resulting in {ratio} percentage of the minority class in the entire dataset.\")"
   ]
  },
  {
   "cell_type": "code",
   "execution_count": null,
   "metadata": {
    "colab": {
     "base_uri": "https://localhost:8080/"
    },
    "executionInfo": {
     "elapsed": 494,
     "status": "ok",
     "timestamp": 1706889256016,
     "user": {
      "displayName": "Iván Díaz de León Rodríguez",
      "userId": "10241861510245582635"
     },
     "user_tz": 360
    },
    "id": "L2r9pyzt9_UK",
    "outputId": "465c0581-3d3e-4333-9b81-38d86a965e55"
   },
   "outputs": [
    {
     "name": "stderr",
     "output_type": "stream",
     "text": [
      "/usr/local/lib/python3.10/dist-packages/sklearn/base.py:439: UserWarning: X does not have valid feature names, but IsolationForest was fitted with feature names\n",
      "  warnings.warn(\n"
     ]
    }
   ],
   "source": [
    "from sklearn.ensemble import IsolationForest\n",
    "\n",
    "# Create the Isolation Forest model\n",
    "model_IsFo = IsolationForest(contamination=0.07)  # Set contamination based on the percentage of anomalies in your dataset\n",
    "\n",
    "# Train the model\n",
    "model_IsFo.fit(X_train)  # X_train is your training data\n",
    "\n",
    "# Predict anomalies\n",
    "predictions = model_IsFo.predict(X_test)  # X_test is your test data\n",
    "\n"
   ]
  },
  {
   "cell_type": "code",
   "execution_count": null,
   "metadata": {
    "colab": {
     "base_uri": "https://localhost:8080/"
    },
    "executionInfo": {
     "elapsed": 148,
     "status": "ok",
     "timestamp": 1706889257646,
     "user": {
      "displayName": "Iván Díaz de León Rodríguez",
      "userId": "10241861510245582635"
     },
     "user_tz": 360
    },
    "id": "PJkI4tGhC5wV",
    "outputId": "ca2d99a4-aa13-4236-fac6-0c21ff0762ea"
   },
   "outputs": [
    {
     "name": "stdout",
     "output_type": "stream",
     "text": [
      "              precision    recall  f1-score   support\n",
      "\n",
      "           0       0.94      0.93      0.94       211\n",
      "           1       0.30      0.32      0.31        19\n",
      "\n",
      "    accuracy                           0.88       230\n",
      "   macro avg       0.62      0.62      0.62       230\n",
      "weighted avg       0.89      0.88      0.88       230\n",
      "\n",
      "AUC-ROC: 0.6247\n"
     ]
    }
   ],
   "source": [
    "from sklearn.metrics import classification_report, roc_auc_score\n",
    "\n",
    "# Change the anomalies' values to make it consistent with the true values\n",
    "predictions_IsFo = [1 if i==-1 else 0 for i in predictions_IsFo]\n",
    "print(classification_report(y_test, predictions_IsFo))\n",
    "\n",
    "# Calculate AUC-ROC\n",
    "auc_roc = roc_auc_score(y_test, predictions_IsFo)\n",
    "print(f'AUC-ROC: {auc_roc:.4f}')\n"
   ]
  },
  {
   "cell_type": "code",
   "execution_count": null,
   "metadata": {
    "colab": {
     "base_uri": "https://localhost:8080/"
    },
    "executionInfo": {
     "elapsed": 377,
     "status": "ok",
     "timestamp": 1706889444256,
     "user": {
      "displayName": "Iván Díaz de León Rodríguez",
      "userId": "10241861510245582635"
     },
     "user_tz": 360
    },
    "id": "1Kzgj7WVAYfa",
    "outputId": "37d5429b-bee0-4587-ea1d-b6c767376fcf"
   },
   "outputs": [
    {
     "data": {
      "image/png": "[encoded data removed]",
      "text/plain": [
       "<Figure size 800x600 with 1 Axes>"
      ]
     },
     "metadata": {},
     "output_type": "display_data"
    }
   ],
   "source": [
    "import seaborn as sns\n",
    "from sklearn.metrics import confusion_matrix\n",
    "import matplotlib.pyplot as plt\n",
    "\n",
    "cm = confusion_matrix(y_test, predictions_IsFo)\n",
    "plt.figure(figsize=(8, 6))\n",
    "sns.heatmap(cm, annot=True, cbar=False, fmt='d', cmap='Blues', xticklabels=['Non-Elite', 'Elite'], yticklabels=['Non-Elite', 'Elite'])\n",
    "plt.xlabel('Predicted')\n",
    "plt.ylabel('Actual')\n",
    "plt.title('Confusion Matrix')\n",
    "plt.show()\n"
   ]
  },
  {
   "cell_type": "markdown",
   "metadata": {
    "id": "GTpedaOZSXjt"
   },
   "source": [
    "### With Standarization:"
   ]
  },
  {
   "cell_type": "code",
   "execution_count": null,
   "metadata": {
    "id": "HyiOGbYBSZ6a"
   },
   "outputs": [],
   "source": [
    "from sklearn.ensemble import IsolationForest\n",
    "\n",
    "# Create the Isolation Forest model\n",
    "model_IsFo_scaled = IsolationForest(contamination=0.07)  # Set contamination based on the percentage of anomalies in your dataset\n",
    "\n",
    "# Train the model\n",
    "model_IsFo_scaled.fit(X_train_scaled)  # X_train is your training data\n",
    "\n",
    "# Predict anomalies\n",
    "predictions_IsFo_scaled = model_IsFo_scaled.predict(X_test_scaled)  # X_test is your test data\n",
    "\n"
   ]
  },
  {
   "cell_type": "code",
   "execution_count": null,
   "metadata": {
    "colab": {
     "base_uri": "https://localhost:8080/"
    },
    "executionInfo": {
     "elapsed": 131,
     "status": "ok",
     "timestamp": 1706889473503,
     "user": {
      "displayName": "Iván Díaz de León Rodríguez",
      "userId": "10241861510245582635"
     },
     "user_tz": 360
    },
    "id": "7RpX0btASZ6a",
    "outputId": "37aca1e8-1aed-4c43-f4f4-4a0e4886fd56"
   },
   "outputs": [
    {
     "name": "stdout",
     "output_type": "stream",
     "text": [
      "              precision    recall  f1-score   support\n",
      "\n",
      "           0       0.93      0.93      0.93       211\n",
      "           1       0.22      0.21      0.22        19\n",
      "\n",
      "    accuracy                           0.87       230\n",
      "   macro avg       0.58      0.57      0.57       230\n",
      "weighted avg       0.87      0.87      0.87       230\n",
      "\n",
      "AUC-ROC: 0.5721\n"
     ]
    }
   ],
   "source": [
    "from sklearn.metrics import classification_report, roc_auc_score\n",
    "\n",
    "# Change the anomalies' values to make it consistent with the true values\n",
    "predictions_IsFo_scaled = [1 if i==-1 else 0 for i in predictions_IsFo_scaled]\n",
    "print(classification_report(y_test, predictions_IsFo_scaled))\n",
    "\n",
    "# Calculate AUC-ROC\n",
    "auc_roc = roc_auc_score(y_test, predictions_IsFo_scaled)\n",
    "print(f'AUC-ROC: {auc_roc:.4f}')\n"
   ]
  },
  {
   "cell_type": "code",
   "execution_count": null,
   "metadata": {
    "colab": {
     "base_uri": "https://localhost:8080/"
    },
    "executionInfo": {
     "elapsed": 350,
     "status": "ok",
     "timestamp": 1706889481969,
     "user": {
      "displayName": "Iván Díaz de León Rodríguez",
      "userId": "10241861510245582635"
     },
     "user_tz": 360
    },
    "id": "JWQCGWwySZ6a",
    "outputId": "2b865aee-3c71-4d5a-93b3-22b02761c519"
   },
   "outputs": [
    {
     "data": {
      "image/png": "[encoded data removed]",
      "text/plain": [
       "<Figure size 800x600 with 1 Axes>"
      ]
     },
     "metadata": {},
     "output_type": "display_data"
    }
   ],
   "source": [
    "import seaborn as sns\n",
    "from sklearn.metrics import confusion_matrix\n",
    "import matplotlib.pyplot as plt\n",
    "\n",
    "cm = confusion_matrix(y_test, predictions_IsFo_scaled)\n",
    "plt.figure(figsize=(8, 6))\n",
    "sns.heatmap(cm, annot=True, cbar=False, fmt='d', cmap='Blues', xticklabels=['Non-Elite', 'Elite'], yticklabels=['Non-Elite', 'Elite'])\n",
    "plt.xlabel('Predicted')\n",
    "plt.ylabel('Actual')\n",
    "plt.title('Confusion Matrix')\n",
    "plt.show()\n"
   ]
  },
  {
   "cell_type": "code",
   "execution_count": null,
   "metadata": {
    "id": "4Sp4Sltwhwka"
   },
   "outputs": [],
   "source": [
    "from sklearn.ensemble import IsolationForest\n",
    "\n",
    "# Create the Isolation Forest model\n",
    "model_IsFo_supervised_scaled = IsolationForest(contamination=0.07)  # Set contamination based on the percentage of anomalies in your dataset\n",
    "\n",
    "# Train the model\n",
    "model_IsFo_supervised_scaled.fit(X_train_scaled)  # X_train is your training data\n",
    "\n",
    "# Predict anomalies\n",
    "predictions_IsFo_scaled = model_IsFo_supervised_scaled.predict(X_test_scaled)  # X_test is your test data"
   ]
  },
  {
   "cell_type": "markdown",
   "metadata": {
    "id": "_BchvLs7SxPH"
   },
   "source": [
    "## One-Class SVM"
   ]
  },
  {
   "cell_type": "markdown",
   "metadata": {
    "id": "zK0CuNnITDjX"
   },
   "source": [
    "\n",
    "\n",
    "* One-Class SVM is a machine learning algorithm that is trained only on the normal instances. It learns a boundary that encapsulates the normal data, and instances outside this boundary are considered anomalies.\n",
    "* It's useful for situations where you have mostly normal instances and want to detect rare anomalies.\n",
    "* Sandarization can be crucial in this algorithm.\n",
    "\n"
   ]
  },
  {
   "cell_type": "code",
   "execution_count": null,
   "metadata": {
    "id": "PcSqDZwrrcVS"
   },
   "outputs": [],
   "source": [
    "from sklearn.svm import OneClassSVM\n",
    "from sklearn.metrics import classification_report, roc_auc_score\n",
    "\n",
    "# Create One-Class Support Vector Machine model\n",
    "model_svm = OneClassSVM(nu=0.05)\n",
    "model_svm.fit(X_train)\n",
    "\n",
    "# Predict anomalies\n",
    "predictions_svm = model_svm.predict(X_test)"
   ]
  },
  {
   "cell_type": "code",
   "execution_count": null,
   "metadata": {
    "colab": {
     "base_uri": "https://localhost:8080/"
    },
    "executionInfo": {
     "elapsed": 139,
     "status": "ok",
     "timestamp": 1706889490542,
     "user": {
      "displayName": "Iván Díaz de León Rodríguez",
      "userId": "10241861510245582635"
     },
     "user_tz": 360
    },
    "id": "d2enrddprcVd",
    "outputId": "1b13fb0e-62b7-4b13-ed67-34739178c4b8"
   },
   "outputs": [
    {
     "name": "stdout",
     "output_type": "stream",
     "text": [
      "              precision    recall  f1-score   support\n",
      "\n",
      "           0       0.93      0.96      0.95       211\n",
      "           1       0.33      0.21      0.26        19\n",
      "\n",
      "    accuracy                           0.90       230\n",
      "   macro avg       0.63      0.59      0.60       230\n",
      "weighted avg       0.88      0.90      0.89       230\n",
      "\n",
      "AUC-ROC: 0.5863\n"
     ]
    }
   ],
   "source": [
    "# Change the anomalies' values to make it consistent with the true values\n",
    "predictions_svm = [1 if i==-1 else 0 for i in predictions_svm]\n",
    "print(classification_report(y_test, predictions_svm))\n",
    "\n",
    "# Calculate AUC-ROC\n",
    "auc_roc = roc_auc_score(y_test, predictions_svm)\n",
    "print(f'AUC-ROC: {auc_roc:.4f}')"
   ]
  },
  {
   "cell_type": "code",
   "execution_count": null,
   "metadata": {
    "colab": {
     "base_uri": "https://localhost:8080/"
    },
    "executionInfo": {
     "elapsed": 384,
     "status": "ok",
     "timestamp": 1706889502217,
     "user": {
      "displayName": "Iván Díaz de León Rodríguez",
      "userId": "10241861510245582635"
     },
     "user_tz": 360
    },
    "id": "ddQbvDoHhDt0",
    "outputId": "eb66c2be-0517-4b83-84f7-9bd044657d14"
   },
   "outputs": [
    {
     "data": {
      "image/png": "[encoded data removed]",
      "text/plain": [
       "<Figure size 800x600 with 1 Axes>"
      ]
     },
     "metadata": {},
     "output_type": "display_data"
    }
   ],
   "source": [
    "import seaborn as sns\n",
    "from sklearn.metrics import confusion_matrix\n",
    "import matplotlib.pyplot as plt\n",
    "\n",
    "cm = confusion_matrix(y_test, predictions_svm)\n",
    "plt.figure(figsize=(8, 6))\n",
    "sns.heatmap(cm, annot=True, cbar=False, fmt='d', cmap='Blues', xticklabels=['Non-Elite', 'Elite'], yticklabels=['Non-Elite', 'Elite'])\n",
    "plt.xlabel('Predicted')\n",
    "plt.ylabel('Actual')\n",
    "plt.title('Confusion Matrix')\n",
    "plt.show()"
   ]
  },
  {
   "cell_type": "code",
   "execution_count": null,
   "metadata": {
    "id": "kK5WLETBoUbr"
   },
   "outputs": [],
   "source": [
    "from sklearn.svm import OneClassSVM\n",
    "from sklearn.metrics import classification_report, roc_auc_score\n",
    "\n",
    "# With standarization\n",
    "model_svm_scaled = OneClassSVM(nu=0.05)  # Adjust nu based on your dataset\n",
    "model_svm_scaled.fit(X_train_scaled)\n",
    "\n",
    "# Predict anomalies\n",
    "predictions_svm_scaled = model_svm_scaled.predict(X_test_scaled)"
   ]
  },
  {
   "cell_type": "code",
   "execution_count": null,
   "metadata": {
    "colab": {
     "base_uri": "https://localhost:8080/"
    },
    "executionInfo": {
     "elapsed": 278,
     "status": "ok",
     "timestamp": 1706889205903,
     "user": {
      "displayName": "Iván Díaz de León Rodríguez",
      "userId": "10241861510245582635"
     },
     "user_tz": 360
    },
    "id": "JLmYwB2hovFQ",
    "outputId": "b223cfc4-ad00-4fea-e0a5-b50a3aa7c90e"
   },
   "outputs": [
    {
     "name": "stdout",
     "output_type": "stream",
     "text": [
      "              precision    recall  f1-score   support\n",
      "\n",
      "           0       0.93      0.94      0.93       211\n",
      "           1       0.19      0.16      0.17        19\n",
      "\n",
      "    accuracy                           0.87       230\n",
      "   macro avg       0.56      0.55      0.55       230\n",
      "weighted avg       0.86      0.87      0.87       230\n",
      "\n",
      "AUC-ROC: 0.5481\n"
     ]
    }
   ],
   "source": [
    "# Change the anomalies' values to make it consistent with the true values\n",
    "predictions_svm_scaled = [1 if i==-1 else 0 for i in predictions_svm_scaled]\n",
    "print(classification_report(y_test, predictions_svm_scaled))\n",
    "\n",
    "# Calculate AUC-ROC\n",
    "auc_roc = roc_auc_score(y_test, predictions_svm_scaled)\n",
    "print(f'AUC-ROC: {auc_roc:.4f}')"
   ]
  },
  {
   "cell_type": "code",
   "execution_count": null,
   "metadata": {
    "colab": {
     "base_uri": "https://localhost:8080/"
    },
    "executionInfo": {
     "elapsed": 404,
     "status": "ok",
     "timestamp": 1706889212725,
     "user": {
      "displayName": "Iván Díaz de León Rodríguez",
      "userId": "10241861510245582635"
     },
     "user_tz": 360
    },
    "id": "zLfnnu5ShJpn",
    "outputId": "4875878d-7ec0-4f32-92d9-844c5a3977d6"
   },
   "outputs": [
    {
     "data": {
      "image/png": "[encoded data removed]",
      "text/plain": [
       "<Figure size 800x600 with 1 Axes>"
      ]
     },
     "metadata": {},
     "output_type": "display_data"
    }
   ],
   "source": [
    "import seaborn as sns\n",
    "from sklearn.metrics import confusion_matrix\n",
    "import matplotlib.pyplot as plt\n",
    "\n",
    "cm = confusion_matrix(y_test, predictions_svm_scaled)\n",
    "plt.figure(figsize=(8, 6))\n",
    "sns.heatmap(cm, annot=True, cbar=False, fmt='d', cmap='Blues', xticklabels=['Non-Elite', 'Elite'], yticklabels=['Non-Elite', 'Elite'])\n",
    "plt.xlabel('Predicted')\n",
    "plt.ylabel('Actual')\n",
    "plt.title('Confusion Matrix')\n",
    "plt.show()"
   ]
  },
  {
   "cell_type": "markdown",
   "metadata": {
    "id": "NeFhXXAkLmxb"
   },
   "source": [
    "## Local Outlier Factor"
   ]
  },
  {
   "cell_type": "markdown",
   "metadata": {
    "id": "Egu9IEM9LsBu"
   },
   "source": [
    "\n",
    "\n",
    "*   LOF measures the local density deviation of a data point with respect to its neighbors. Anomalies are identified as data points with significantly lower density compared to their neighbors.\n",
    "* Not inherently sensitive to scale\n",
    "\n"
   ]
  },
  {
   "cell_type": "code",
   "execution_count": null,
   "metadata": {
    "id": "MUVRL1J9Lrtx"
   },
   "outputs": [],
   "source": [
    "from sklearn.neighbors import LocalOutlierFactor\n",
    "from sklearn.metrics import classification_report, roc_auc_score\n",
    "\n",
    "# Train Local Outlier Factor (LOF)\n",
    "model_lof = LocalOutlierFactor(n_neighbors=20, contamination=0.07)  # Contamination set to the 7% of outliers\n",
    "model_lof.fit(X_train)\n",
    "\n",
    "# Assuming X_test is your test data\n",
    "predictions_lof = model_lof.fit_predict(X_test)\n"
   ]
  },
  {
   "cell_type": "code",
   "execution_count": null,
   "metadata": {
    "colab": {
     "base_uri": "https://localhost:8080/"
    },
    "executionInfo": {
     "elapsed": 291,
     "status": "ok",
     "timestamp": 1706884311575,
     "user": {
      "displayName": "Iván Díaz de León Rodríguez",
      "userId": "10241861510245582635"
     },
     "user_tz": 360
    },
    "id": "cZIeqQSGMCF7",
    "outputId": "5a19ee5b-54ab-4dd4-a5cb-59f9d3588d00"
   },
   "outputs": [
    {
     "name": "stdout",
     "output_type": "stream",
     "text": [
      "              precision    recall  f1-score   support\n",
      "\n",
      "           0       0.94      0.95      0.95       211\n",
      "           1       0.41      0.37      0.39        19\n",
      "\n",
      "    accuracy                           0.90       230\n",
      "   macro avg       0.68      0.66      0.67       230\n",
      "weighted avg       0.90      0.90      0.90       230\n",
      "\n",
      "AUC-ROC: 0.6605\n"
     ]
    }
   ],
   "source": [
    "# Change the anomalies' values to make it consistent with the true values\n",
    "predictions_lof = [1 if i==-1 else 0 for i in predictions_lof]\n",
    "print(classification_report(y_test, predictions_lof))\n",
    "\n",
    "# Calculate AUC-ROC\n",
    "auc_roc = roc_auc_score(y_test, predictions_lof)\n",
    "print(f'AUC-ROC: {auc_roc:.4f}')"
   ]
  },
  {
   "cell_type": "code",
   "execution_count": null,
   "metadata": {
    "colab": {
     "base_uri": "https://localhost:8080/"
    },
    "executionInfo": {
     "elapsed": 683,
     "status": "ok",
     "timestamp": 1706889111984,
     "user": {
      "displayName": "Iván Díaz de León Rodríguez",
      "userId": "10241861510245582635"
     },
     "user_tz": 360
    },
    "id": "aq-rClWMhMCq",
    "outputId": "d0eeabcb-70e0-4b6a-c75c-dc8283acdba2"
   },
   "outputs": [
    {
     "data": {
      "image/png": "[encoded data removed]",
      "text/plain": [
       "<Figure size 800x600 with 1 Axes>"
      ]
     },
     "metadata": {},
     "output_type": "display_data"
    }
   ],
   "source": [
    "import seaborn as sns\n",
    "from sklearn.metrics import confusion_matrix\n",
    "import matplotlib.pyplot as plt\n",
    "\n",
    "cm = confusion_matrix(y_test, predictions_lof)\n",
    "plt.figure(figsize=(8, 6))\n",
    "sns.heatmap(cm, annot=True, cbar=False, fmt='d', cmap='Blues', xticklabels=['Non-Elite', 'Elite'], yticklabels=['Non-Elite', 'Elite'])\n",
    "plt.xlabel('Predicted')\n",
    "plt.ylabel('Actual')\n",
    "plt.title('Confusion Matrix')\n",
    "plt.show()"
   ]
  },
  {
   "cell_type": "markdown",
   "metadata": {
    "id": "ioO66rEpcuGd"
   },
   "source": [
    "## Elliptic Evolve"
   ]
  },
  {
   "cell_type": "markdown",
   "metadata": {
    "id": "yKh2mcPEcyBV"
   },
   "source": [
    "\n",
    "\n",
    "*   This algorithm fits a multivariate Gaussian distribution to the majority class and identifies anomalies based on deviations from this distribution. It assumes that the majority class is Gaussian distributed.\n",
    "\n"
   ]
  },
  {
   "cell_type": "markdown",
   "metadata": {
    "id": "-HeqlAvJd6HD"
   },
   "source": [
    "### Without Standarization:"
   ]
  },
  {
   "cell_type": "code",
   "execution_count": null,
   "metadata": {
    "id": "ACVu_VODcyrS"
   },
   "outputs": [],
   "source": [
    "from sklearn.covariance import EllipticEnvelope\n",
    "\n",
    "# Build Elliptic Envelope Model\n",
    "model_ee = EllipticEnvelope(contamination=0.07)  # Adjust contamination based on your dataset\n",
    "model_ee.fit(X_train)\n",
    "\n",
    "predictions_ee = model_ee.predict(X_test)"
   ]
  },
  {
   "cell_type": "code",
   "execution_count": null,
   "metadata": {
    "colab": {
     "base_uri": "https://localhost:8080/"
    },
    "executionInfo": {
     "elapsed": 6,
     "status": "ok",
     "timestamp": 1706888100736,
     "user": {
      "displayName": "Iván Díaz de León Rodríguez",
      "userId": "10241861510245582635"
     },
     "user_tz": 360
    },
    "id": "lnPkhPmRdI4x",
    "outputId": "87fcd150-0c14-469f-84d6-a8a535d1eeb6"
   },
   "outputs": [
    {
     "name": "stdout",
     "output_type": "stream",
     "text": [
      "              precision    recall  f1-score   support\n",
      "\n",
      "           0       0.96      0.96      0.96       211\n",
      "           1       0.55      0.58      0.56        19\n",
      "\n",
      "    accuracy                           0.93       230\n",
      "   macro avg       0.76      0.77      0.76       230\n",
      "weighted avg       0.93      0.93      0.93       230\n",
      "\n",
      "AUC-ROC: 0.7681\n"
     ]
    }
   ],
   "source": [
    "from sklearn.metrics import classification_report, roc_auc_score\n",
    "\n",
    "predictions_ee = [1 if i==-1 else 0 for i in predictions_ee]\n",
    "# Assuming y_test is your true labels\n",
    "print(classification_report(y_test, predictions_ee))\n",
    "\n",
    "# Calculate AUC-ROC\n",
    "auc_roc = roc_auc_score(y_test, predictions_ee)\n",
    "print(f'AUC-ROC: {auc_roc:.4f}')\n",
    "\n"
   ]
  },
  {
   "cell_type": "code",
   "execution_count": null,
   "metadata": {
    "colab": {
     "base_uri": "https://localhost:8080/"
    },
    "executionInfo": {
     "elapsed": 572,
     "status": "ok",
     "timestamp": 1706889126655,
     "user": {
      "displayName": "Iván Díaz de León Rodríguez",
      "userId": "10241861510245582635"
     },
     "user_tz": 360
    },
    "id": "_-IOo5QJhQsh",
    "outputId": "c066e633-6aad-4e06-b2b0-efedbc2fbaf5"
   },
   "outputs": [
    {
     "data": {
      "image/png": "[encoded data removed]",
      "text/plain": [
       "<Figure size 800x600 with 1 Axes>"
      ]
     },
     "metadata": {},
     "output_type": "display_data"
    }
   ],
   "source": [
    "import seaborn as sns\n",
    "from sklearn.metrics import confusion_matrix\n",
    "import matplotlib.pyplot as plt\n",
    "\n",
    "cm = confusion_matrix(y_test, predictions_ee)\n",
    "plt.figure(figsize=(8, 6))\n",
    "sns.heatmap(cm, annot=True, cbar=False, fmt='d', cmap='Blues', xticklabels=['Non-Elite', 'Elite'], yticklabels=['Non-Elite', 'Elite'])\n",
    "plt.xlabel('Predicted')\n",
    "plt.ylabel('Actual')\n",
    "plt.title('Confusion Matrix')\n",
    "plt.show()"
   ]
  },
  {
   "cell_type": "markdown",
   "metadata": {
    "id": "gwMTJaojd8tc"
   },
   "source": [
    "### With Standarization:"
   ]
  },
  {
   "cell_type": "code",
   "execution_count": null,
   "metadata": {
    "id": "FPXsBksCd_xk"
   },
   "outputs": [],
   "source": [
    "from sklearn.covariance import EllipticEnvelope\n",
    "\n",
    "# Build Elliptic Envelope Model\n",
    "model_ee_scaled = EllipticEnvelope(contamination=0.07)  # Adjust contamination based on your dataset\n",
    "model_ee_scaled.fit(X_train_scaled)\n",
    "\n",
    "predictions_ee_scaled = model_ee_scaled.predict(X_test_scaled)"
   ]
  },
  {
   "cell_type": "code",
   "execution_count": null,
   "metadata": {
    "colab": {
     "base_uri": "https://localhost:8080/"
    },
    "executionInfo": {
     "elapsed": 139,
     "status": "ok",
     "timestamp": 1706888332789,
     "user": {
      "displayName": "Iván Díaz de León Rodríguez",
      "userId": "10241861510245582635"
     },
     "user_tz": 360
    },
    "id": "Mczlmflmd_xv",
    "outputId": "b9d22bbb-0ec3-4059-dbd3-7ba4f292cb83"
   },
   "outputs": [
    {
     "name": "stdout",
     "output_type": "stream",
     "text": [
      "              precision    recall  f1-score   support\n",
      "\n",
      "           0       0.96      0.94      0.95       211\n",
      "           1       0.48      0.58      0.52        19\n",
      "\n",
      "    accuracy                           0.91       230\n",
      "   macro avg       0.72      0.76      0.74       230\n",
      "weighted avg       0.92      0.91      0.92       230\n",
      "\n",
      "AUC-ROC: 0.7610\n"
     ]
    }
   ],
   "source": [
    "from sklearn.metrics import classification_report, roc_auc_score\n",
    "\n",
    "predictions_ee_scaled = [1 if i==-1 else 0 for i in predictions_ee_scaled]\n",
    "# Assuming y_test is your true labels\n",
    "print(classification_report(y_test, predictions_ee_scaled))\n",
    "\n",
    "# Calculate AUC-ROC\n",
    "auc_roc = roc_auc_score(y_test, predictions_ee_scaled)\n",
    "print(f'AUC-ROC: {auc_roc:.4f}')\n",
    "\n"
   ]
  },
  {
   "cell_type": "code",
   "execution_count": null,
   "metadata": {
    "colab": {
     "base_uri": "https://localhost:8080/"
    },
    "executionInfo": {
     "elapsed": 516,
     "status": "ok",
     "timestamp": 1706889148106,
     "user": {
      "displayName": "Iván Díaz de León Rodríguez",
      "userId": "10241861510245582635"
     },
     "user_tz": 360
    },
    "id": "BIvd2-ydhVWd",
    "outputId": "49c09c1f-2a41-43a4-b8c4-3410657f0ba5"
   },
   "outputs": [
    {
     "data": {
      "image/png": "[encoded data removed]",
      "text/plain": [
       "<Figure size 800x600 with 1 Axes>"
      ]
     },
     "metadata": {},
     "output_type": "display_data"
    }
   ],
   "source": [
    "import seaborn as sns\n",
    "from sklearn.metrics import confusion_matrix\n",
    "import matplotlib.pyplot as plt\n",
    "\n",
    "cm = confusion_matrix(y_test, predictions_ee_scaled)\n",
    "plt.figure(figsize=(8, 6))\n",
    "sns.heatmap(cm, annot=True, cbar=False, fmt='d', cmap='Blues', xticklabels=['Non-Elite', 'Elite'], yticklabels=['Non-Elite', 'Elite'])\n",
    "plt.xlabel('Predicted')\n",
    "plt.ylabel('Actual')\n",
    "plt.title('Confusion Matrix')\n",
    "plt.show()"
   ]
  }
 ],
 "metadata": {
  "colab": {
   "authorship_tag": "ABX9TyMeTd56KjK/EEClXdmc4B/3",
   "provenance": []
  },
  "kernelspec": {
   "display_name": "Python 3",
   "name": "python3"
  },
  "language_info": {
   "name": "python"
  }
 },
 "nbformat": 4,
 "nbformat_minor": 0
}
